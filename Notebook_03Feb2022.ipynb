{
 "cells": [
  {
   "cell_type": "code",
   "execution_count": 5,
   "metadata": {},
   "outputs": [],
   "source": [
    "import torch\n",
    "from torch import nn\n",
    "import numpy as np\n",
    "import pandas\n",
    "from torch.utils.data import Dataset, DataLoader\n",
    "import time"
   ]
  },
  {
   "cell_type": "code",
   "execution_count": 92,
   "metadata": {},
   "outputs": [],
   "source": [
    "class Network(nn.Module):\n",
    "        def __init__(self):\n",
    "                super().__init__()\n",
    "\n",
    "                # Layer sizes\n",
    "                self.input = nn.Linear(6, 100)\n",
    "                self.first_hidden = nn.Linear(100, 250)\n",
    "                self.second_hidden = nn.Linear(250, 250)\n",
    "                self.third_hidden = nn.Linear(250, 100)\n",
    "                self.fourth_hidden = nn.Linear(100, 50)\n",
    "                self.output = nn.Linear(50, 1)\n",
    "\n",
    "                # Activation functions\n",
    "                self.relu = nn.ReLU()\n",
    "                self.sigmoid = nn.Sigmoid()\n",
    "\n",
    "        def forward(self, x:[])->[]:\n",
    "                x = self.input(x)\n",
    "                x = self.relu(x)\n",
    "                x = self.first_hidden(x)\n",
    "                x = self.relu(x)\n",
    "                x = self.second_hidden(x)\n",
    "                x = self.relu(x)\n",
    "                x = self.third_hidden(x)\n",
    "                x = self.relu(x)\n",
    "                x = self.fourth_hidden(x)\n",
    "                x = self.relu(x)\n",
    "                x = self.output(x)\n",
    "\n",
    "                return x"
   ]
  },
  {
   "cell_type": "code",
   "execution_count": 30,
   "metadata": {},
   "outputs": [
    {
     "data": {
      "text/html": [
       "<div>\n",
       "<style scoped>\n",
       "    .dataframe tbody tr th:only-of-type {\n",
       "        vertical-align: middle;\n",
       "    }\n",
       "\n",
       "    .dataframe tbody tr th {\n",
       "        vertical-align: top;\n",
       "    }\n",
       "\n",
       "    .dataframe thead th {\n",
       "        text-align: right;\n",
       "    }\n",
       "</style>\n",
       "<table border=\"1\" class=\"dataframe\">\n",
       "  <thead>\n",
       "    <tr style=\"text-align: right;\">\n",
       "      <th></th>\n",
       "      <th>Unnamed: 0</th>\n",
       "      <th>Fill Factor</th>\n",
       "      <th>Pitch</th>\n",
       "      <th>Duty Cycle</th>\n",
       "      <th>Theta</th>\n",
       "      <th>Lambda</th>\n",
       "      <th>Mode</th>\n",
       "      <th>Transmission</th>\n",
       "    </tr>\n",
       "  </thead>\n",
       "  <tbody>\n",
       "    <tr>\n",
       "      <th>0</th>\n",
       "      <td>0</td>\n",
       "      <td>0.2</td>\n",
       "      <td>5.000000e-07</td>\n",
       "      <td>0.4</td>\n",
       "      <td>5</td>\n",
       "      <td>0.000002</td>\n",
       "      <td>1</td>\n",
       "      <td>0.000097</td>\n",
       "    </tr>\n",
       "    <tr>\n",
       "      <th>1</th>\n",
       "      <td>1</td>\n",
       "      <td>0.2</td>\n",
       "      <td>5.000000e-07</td>\n",
       "      <td>0.4</td>\n",
       "      <td>5</td>\n",
       "      <td>0.000002</td>\n",
       "      <td>1</td>\n",
       "      <td>0.000098</td>\n",
       "    </tr>\n",
       "    <tr>\n",
       "      <th>2</th>\n",
       "      <td>2</td>\n",
       "      <td>0.2</td>\n",
       "      <td>5.000000e-07</td>\n",
       "      <td>0.4</td>\n",
       "      <td>5</td>\n",
       "      <td>0.000002</td>\n",
       "      <td>1</td>\n",
       "      <td>0.000100</td>\n",
       "    </tr>\n",
       "    <tr>\n",
       "      <th>3</th>\n",
       "      <td>3</td>\n",
       "      <td>0.2</td>\n",
       "      <td>5.000000e-07</td>\n",
       "      <td>0.4</td>\n",
       "      <td>5</td>\n",
       "      <td>0.000002</td>\n",
       "      <td>1</td>\n",
       "      <td>0.000102</td>\n",
       "    </tr>\n",
       "    <tr>\n",
       "      <th>4</th>\n",
       "      <td>4</td>\n",
       "      <td>0.2</td>\n",
       "      <td>5.000000e-07</td>\n",
       "      <td>0.4</td>\n",
       "      <td>5</td>\n",
       "      <td>0.000002</td>\n",
       "      <td>1</td>\n",
       "      <td>0.000104</td>\n",
       "    </tr>\n",
       "    <tr>\n",
       "      <th>...</th>\n",
       "      <td>...</td>\n",
       "      <td>...</td>\n",
       "      <td>...</td>\n",
       "      <td>...</td>\n",
       "      <td>...</td>\n",
       "      <td>...</td>\n",
       "      <td>...</td>\n",
       "      <td>...</td>\n",
       "    </tr>\n",
       "    <tr>\n",
       "      <th>518395</th>\n",
       "      <td>518395</td>\n",
       "      <td>0.6</td>\n",
       "      <td>9.000000e-07</td>\n",
       "      <td>0.8</td>\n",
       "      <td>20</td>\n",
       "      <td>0.000001</td>\n",
       "      <td>0</td>\n",
       "      <td>-0.012646</td>\n",
       "    </tr>\n",
       "    <tr>\n",
       "      <th>518396</th>\n",
       "      <td>518396</td>\n",
       "      <td>0.6</td>\n",
       "      <td>9.000000e-07</td>\n",
       "      <td>0.8</td>\n",
       "      <td>20</td>\n",
       "      <td>0.000001</td>\n",
       "      <td>0</td>\n",
       "      <td>-0.012310</td>\n",
       "    </tr>\n",
       "    <tr>\n",
       "      <th>518397</th>\n",
       "      <td>518397</td>\n",
       "      <td>0.6</td>\n",
       "      <td>9.000000e-07</td>\n",
       "      <td>0.8</td>\n",
       "      <td>20</td>\n",
       "      <td>0.000001</td>\n",
       "      <td>0</td>\n",
       "      <td>-0.012144</td>\n",
       "    </tr>\n",
       "    <tr>\n",
       "      <th>518398</th>\n",
       "      <td>518398</td>\n",
       "      <td>0.6</td>\n",
       "      <td>9.000000e-07</td>\n",
       "      <td>0.8</td>\n",
       "      <td>20</td>\n",
       "      <td>0.000001</td>\n",
       "      <td>0</td>\n",
       "      <td>-0.011917</td>\n",
       "    </tr>\n",
       "    <tr>\n",
       "      <th>518399</th>\n",
       "      <td>518399</td>\n",
       "      <td>0.6</td>\n",
       "      <td>9.000000e-07</td>\n",
       "      <td>0.8</td>\n",
       "      <td>20</td>\n",
       "      <td>0.000001</td>\n",
       "      <td>0</td>\n",
       "      <td>-0.011437</td>\n",
       "    </tr>\n",
       "  </tbody>\n",
       "</table>\n",
       "<p>518400 rows × 8 columns</p>\n",
       "</div>"
      ],
      "text/plain": [
       "        Unnamed: 0  Fill Factor         Pitch  Duty Cycle  Theta    Lambda  \\\n",
       "0                0          0.2  5.000000e-07         0.4      5  0.000002   \n",
       "1                1          0.2  5.000000e-07         0.4      5  0.000002   \n",
       "2                2          0.2  5.000000e-07         0.4      5  0.000002   \n",
       "3                3          0.2  5.000000e-07         0.4      5  0.000002   \n",
       "4                4          0.2  5.000000e-07         0.4      5  0.000002   \n",
       "...            ...          ...           ...         ...    ...       ...   \n",
       "518395      518395          0.6  9.000000e-07         0.8     20  0.000001   \n",
       "518396      518396          0.6  9.000000e-07         0.8     20  0.000001   \n",
       "518397      518397          0.6  9.000000e-07         0.8     20  0.000001   \n",
       "518398      518398          0.6  9.000000e-07         0.8     20  0.000001   \n",
       "518399      518399          0.6  9.000000e-07         0.8     20  0.000001   \n",
       "\n",
       "        Mode  Transmission  \n",
       "0          1      0.000097  \n",
       "1          1      0.000098  \n",
       "2          1      0.000100  \n",
       "3          1      0.000102  \n",
       "4          1      0.000104  \n",
       "...      ...           ...  \n",
       "518395     0     -0.012646  \n",
       "518396     0     -0.012310  \n",
       "518397     0     -0.012144  \n",
       "518398     0     -0.011917  \n",
       "518399     0     -0.011437  \n",
       "\n",
       "[518400 rows x 8 columns]"
      ]
     },
     "execution_count": 30,
     "metadata": {},
     "output_type": "execute_result"
    }
   ],
   "source": [
    "pandas.read_csv('DATA_FILES/dataset_with_row_id.csv')"
   ]
  },
  {
   "cell_type": "code",
   "execution_count": 93,
   "metadata": {},
   "outputs": [
    {
     "data": {
      "text/plain": [
       "Network(\n",
       "  (input): Linear(in_features=6, out_features=100, bias=True)\n",
       "  (first_hidden): Linear(in_features=100, out_features=250, bias=True)\n",
       "  (second_hidden): Linear(in_features=250, out_features=250, bias=True)\n",
       "  (third_hidden): Linear(in_features=250, out_features=100, bias=True)\n",
       "  (fourth_hidden): Linear(in_features=100, out_features=50, bias=True)\n",
       "  (output): Linear(in_features=50, out_features=1, bias=True)\n",
       "  (relu): ReLU()\n",
       "  (sigmoid): Sigmoid()\n",
       ")"
      ]
     },
     "execution_count": 93,
     "metadata": {},
     "output_type": "execute_result"
    }
   ],
   "source": [
    "GratingCouplerNet = torch.load('GratingCouplerNetModel')\n",
    "GratingCouplerNet.eval()"
   ]
  },
  {
   "cell_type": "code",
   "execution_count": 34,
   "metadata": {},
   "outputs": [],
   "source": [
    "training_set = pandas.read_csv('DATA_FILES/training_set_normalized_features_and_labels.csv')\n",
    "testing_set = pandas.read_csv('DATA_FILES/testing_set_normalized_features_and_labels.csv')"
   ]
  },
  {
   "cell_type": "code",
   "execution_count": 48,
   "metadata": {},
   "outputs": [
    {
     "data": {
      "text/html": [
       "<div>\n",
       "<style scoped>\n",
       "    .dataframe tbody tr th:only-of-type {\n",
       "        vertical-align: middle;\n",
       "    }\n",
       "\n",
       "    .dataframe tbody tr th {\n",
       "        vertical-align: top;\n",
       "    }\n",
       "\n",
       "    .dataframe thead th {\n",
       "        text-align: right;\n",
       "    }\n",
       "</style>\n",
       "<table border=\"1\" class=\"dataframe\">\n",
       "  <thead>\n",
       "    <tr style=\"text-align: right;\">\n",
       "      <th></th>\n",
       "      <th>Fill Factor</th>\n",
       "      <th>Pitch</th>\n",
       "      <th>Duty Cycle</th>\n",
       "      <th>Theta</th>\n",
       "      <th>Lambda</th>\n",
       "      <th>Mode</th>\n",
       "      <th>Transmission</th>\n",
       "    </tr>\n",
       "  </thead>\n",
       "  <tbody>\n",
       "    <tr>\n",
       "      <th>0</th>\n",
       "      <td>0.0</td>\n",
       "      <td>0.0</td>\n",
       "      <td>0.0</td>\n",
       "      <td>0.0</td>\n",
       "      <td>0.950</td>\n",
       "      <td>1.0</td>\n",
       "      <td>0.507319</td>\n",
       "    </tr>\n",
       "    <tr>\n",
       "      <th>1</th>\n",
       "      <td>0.0</td>\n",
       "      <td>0.0</td>\n",
       "      <td>0.0</td>\n",
       "      <td>0.0</td>\n",
       "      <td>0.900</td>\n",
       "      <td>1.0</td>\n",
       "      <td>0.507227</td>\n",
       "    </tr>\n",
       "    <tr>\n",
       "      <th>2</th>\n",
       "      <td>0.0</td>\n",
       "      <td>0.0</td>\n",
       "      <td>0.0</td>\n",
       "      <td>0.0</td>\n",
       "      <td>0.875</td>\n",
       "      <td>1.0</td>\n",
       "      <td>0.507229</td>\n",
       "    </tr>\n",
       "    <tr>\n",
       "      <th>3</th>\n",
       "      <td>0.0</td>\n",
       "      <td>0.0</td>\n",
       "      <td>0.0</td>\n",
       "      <td>0.0</td>\n",
       "      <td>0.675</td>\n",
       "      <td>1.0</td>\n",
       "      <td>0.507283</td>\n",
       "    </tr>\n",
       "    <tr>\n",
       "      <th>4</th>\n",
       "      <td>0.0</td>\n",
       "      <td>0.0</td>\n",
       "      <td>0.0</td>\n",
       "      <td>0.0</td>\n",
       "      <td>0.650</td>\n",
       "      <td>1.0</td>\n",
       "      <td>0.507230</td>\n",
       "    </tr>\n",
       "    <tr>\n",
       "      <th>...</th>\n",
       "      <td>...</td>\n",
       "      <td>...</td>\n",
       "      <td>...</td>\n",
       "      <td>...</td>\n",
       "      <td>...</td>\n",
       "      <td>...</td>\n",
       "      <td>...</td>\n",
       "    </tr>\n",
       "    <tr>\n",
       "      <th>77755</th>\n",
       "      <td>1.0</td>\n",
       "      <td>1.0</td>\n",
       "      <td>1.0</td>\n",
       "      <td>1.0</td>\n",
       "      <td>0.075</td>\n",
       "      <td>0.0</td>\n",
       "      <td>0.491165</td>\n",
       "    </tr>\n",
       "    <tr>\n",
       "      <th>77756</th>\n",
       "      <td>1.0</td>\n",
       "      <td>1.0</td>\n",
       "      <td>1.0</td>\n",
       "      <td>1.0</td>\n",
       "      <td>0.050</td>\n",
       "      <td>0.0</td>\n",
       "      <td>0.490764</td>\n",
       "    </tr>\n",
       "    <tr>\n",
       "      <th>77757</th>\n",
       "      <td>1.0</td>\n",
       "      <td>1.0</td>\n",
       "      <td>1.0</td>\n",
       "      <td>1.0</td>\n",
       "      <td>0.050</td>\n",
       "      <td>0.0</td>\n",
       "      <td>0.490698</td>\n",
       "    </tr>\n",
       "    <tr>\n",
       "      <th>77758</th>\n",
       "      <td>1.0</td>\n",
       "      <td>1.0</td>\n",
       "      <td>1.0</td>\n",
       "      <td>1.0</td>\n",
       "      <td>0.025</td>\n",
       "      <td>0.0</td>\n",
       "      <td>0.492394</td>\n",
       "    </tr>\n",
       "    <tr>\n",
       "      <th>77759</th>\n",
       "      <td>1.0</td>\n",
       "      <td>1.0</td>\n",
       "      <td>1.0</td>\n",
       "      <td>1.0</td>\n",
       "      <td>0.000</td>\n",
       "      <td>0.0</td>\n",
       "      <td>0.494342</td>\n",
       "    </tr>\n",
       "  </tbody>\n",
       "</table>\n",
       "<p>77760 rows × 7 columns</p>\n",
       "</div>"
      ],
      "text/plain": [
       "       Fill Factor  Pitch  Duty Cycle  Theta  Lambda  Mode  Transmission\n",
       "0              0.0    0.0         0.0    0.0   0.950   1.0      0.507319\n",
       "1              0.0    0.0         0.0    0.0   0.900   1.0      0.507227\n",
       "2              0.0    0.0         0.0    0.0   0.875   1.0      0.507229\n",
       "3              0.0    0.0         0.0    0.0   0.675   1.0      0.507283\n",
       "4              0.0    0.0         0.0    0.0   0.650   1.0      0.507230\n",
       "...            ...    ...         ...    ...     ...   ...           ...\n",
       "77755          1.0    1.0         1.0    1.0   0.075   0.0      0.491165\n",
       "77756          1.0    1.0         1.0    1.0   0.050   0.0      0.490764\n",
       "77757          1.0    1.0         1.0    1.0   0.050   0.0      0.490698\n",
       "77758          1.0    1.0         1.0    1.0   0.025   0.0      0.492394\n",
       "77759          1.0    1.0         1.0    1.0   0.000   0.0      0.494342\n",
       "\n",
       "[77760 rows x 7 columns]"
      ]
     },
     "execution_count": 48,
     "metadata": {},
     "output_type": "execute_result"
    }
   ],
   "source": [
    "testing_set"
   ]
  },
  {
   "cell_type": "code",
   "execution_count": 45,
   "metadata": {},
   "outputs": [
    {
     "data": {
      "text/plain": [
       "Fill Factor    0.00\n",
       "Pitch          0.00\n",
       "Duty Cycle     0.00\n",
       "Theta          0.00\n",
       "Lambda         0.95\n",
       "Mode           1.00\n",
       "Name: 0, dtype: float64"
      ]
     },
     "execution_count": 45,
     "metadata": {},
     "output_type": "execute_result"
    }
   ],
   "source": [
    "testing_set.iloc[0][0:6]"
   ]
  },
  {
   "cell_type": "code",
   "execution_count": 53,
   "metadata": {},
   "outputs": [
    {
     "data": {
      "text/plain": [
       "tensor([0.0000, 0.0000, 0.0000, 0.0000, 0.9000, 1.0000])"
      ]
     },
     "execution_count": 53,
     "metadata": {},
     "output_type": "execute_result"
    }
   ],
   "source": [
    "x = torch.tensor(testing_set.iloc[1][0:6], dtype=torch.float32)\n",
    "x"
   ]
  },
  {
   "cell_type": "code",
   "execution_count": 40,
   "metadata": {},
   "outputs": [
    {
     "data": {
      "text/plain": [
       "0.888558"
      ]
     },
     "execution_count": 40,
     "metadata": {},
     "output_type": "execute_result"
    }
   ],
   "source": [
    "denominator = (4.378690e-01) - (-4.506890e-01)\n",
    "denominator"
   ]
  },
  {
   "cell_type": "code",
   "execution_count": 54,
   "metadata": {},
   "outputs": [
    {
     "data": {
      "text/plain": [
       "1.1300000000047383e-05"
      ]
     },
     "execution_count": 54,
     "metadata": {},
     "output_type": "execute_result"
    }
   ],
   "source": [
    "value = (testing_set.iloc[1][\"Transmission\"]*denominator) + (-4.506890e-01)\n",
    "value"
   ]
  },
  {
   "cell_type": "code",
   "execution_count": 51,
   "metadata": {},
   "outputs": [
    {
     "data": {
      "text/plain": [
       "tensor([0.5306], grad_fn=<AddBackward0>)"
      ]
     },
     "execution_count": 51,
     "metadata": {},
     "output_type": "execute_result"
    }
   ],
   "source": [
    "GratingCouplerNet(x)"
   ]
  },
  {
   "cell_type": "code",
   "execution_count": 55,
   "metadata": {},
   "outputs": [
    {
     "data": {
      "text/plain": [
       "tensor([0.0193], grad_fn=<AddBackward0>)"
      ]
     },
     "execution_count": 55,
     "metadata": {},
     "output_type": "execute_result"
    }
   ],
   "source": [
    "value = (GratingCouplerNet(x)*denominator) + (-4.506890e-01)\n",
    "value"
   ]
  },
  {
   "cell_type": "code",
   "execution_count": 56,
   "metadata": {},
   "outputs": [],
   "source": [
    "loss_function = torch.nn.MSELoss()"
   ]
  },
  {
   "cell_type": "code",
   "execution_count": 59,
   "metadata": {},
   "outputs": [
    {
     "name": "stderr",
     "output_type": "stream",
     "text": [
      "/home/jonathanlevine/anaconda3/lib/python3.8/site-packages/torch/nn/modules/loss.py:528: UserWarning: Using a target size (torch.Size([])) that is different to the input size (torch.Size([1])). This will likely lead to incorrect results due to broadcasting. Please ensure they have the same size.\n",
      "  return F.mse_loss(input, target, reduction=self.reduction)\n"
     ]
    },
    {
     "data": {
      "text/plain": [
       "tensor(0.0005, grad_fn=<MseLossBackward>)"
      ]
     },
     "execution_count": 59,
     "metadata": {},
     "output_type": "execute_result"
    }
   ],
   "source": [
    "loss_function(GratingCouplerNet(x), torch.tensor(testing_set.iloc[1][\"Transmission\"], dtype=torch.float32))"
   ]
  },
  {
   "cell_type": "code",
   "execution_count": 61,
   "metadata": {},
   "outputs": [
    {
     "data": {
      "text/plain": [
       "tensor([0.0005], grad_fn=<PowBackward0>)"
      ]
     },
     "execution_count": 61,
     "metadata": {},
     "output_type": "execute_result"
    }
   ],
   "source": [
    "(GratingCouplerNet(x) - torch.tensor(testing_set.iloc[1][\"Transmission\"]))**2"
   ]
  },
  {
   "cell_type": "code",
   "execution_count": 64,
   "metadata": {},
   "outputs": [
    {
     "data": {
      "text/plain": [
       "tensor([0.0427], grad_fn=<DivBackward0>)"
      ]
     },
     "execution_count": 64,
     "metadata": {},
     "output_type": "execute_result"
    }
   ],
   "source": [
    "abs((GratingCouplerNet(x) - torch.tensor(testing_set.iloc[1][\"Transmission\"])))/(torch.tensor(testing_set.iloc[1][\"Transmission\"]))"
   ]
  },
  {
   "cell_type": "code",
   "execution_count": 65,
   "metadata": {},
   "outputs": [],
   "source": [
    "training_set = pandas.read_csv('DATA_FILES/training_set_normalized_2.csv')\n",
    "testing_set = pandas.read_csv('DATA_FILES/testing_set_normalized_2.csv')"
   ]
  },
  {
   "cell_type": "code",
   "execution_count": 66,
   "metadata": {},
   "outputs": [
    {
     "data": {
      "text/html": [
       "<div>\n",
       "<style scoped>\n",
       "    .dataframe tbody tr th:only-of-type {\n",
       "        vertical-align: middle;\n",
       "    }\n",
       "\n",
       "    .dataframe tbody tr th {\n",
       "        vertical-align: top;\n",
       "    }\n",
       "\n",
       "    .dataframe thead th {\n",
       "        text-align: right;\n",
       "    }\n",
       "</style>\n",
       "<table border=\"1\" class=\"dataframe\">\n",
       "  <thead>\n",
       "    <tr style=\"text-align: right;\">\n",
       "      <th></th>\n",
       "      <th>Fill Factor</th>\n",
       "      <th>Pitch</th>\n",
       "      <th>Duty Cycle</th>\n",
       "      <th>Theta</th>\n",
       "      <th>Lambda</th>\n",
       "      <th>Mode</th>\n",
       "      <th>Transmission</th>\n",
       "    </tr>\n",
       "  </thead>\n",
       "  <tbody>\n",
       "    <tr>\n",
       "      <th>0</th>\n",
       "      <td>0.0</td>\n",
       "      <td>0.0</td>\n",
       "      <td>0.0</td>\n",
       "      <td>0.0</td>\n",
       "      <td>1.000</td>\n",
       "      <td>1</td>\n",
       "      <td>0.000097</td>\n",
       "    </tr>\n",
       "    <tr>\n",
       "      <th>1</th>\n",
       "      <td>0.0</td>\n",
       "      <td>0.0</td>\n",
       "      <td>0.0</td>\n",
       "      <td>0.0</td>\n",
       "      <td>0.975</td>\n",
       "      <td>1</td>\n",
       "      <td>0.000100</td>\n",
       "    </tr>\n",
       "    <tr>\n",
       "      <th>2</th>\n",
       "      <td>0.0</td>\n",
       "      <td>0.0</td>\n",
       "      <td>0.0</td>\n",
       "      <td>0.0</td>\n",
       "      <td>0.975</td>\n",
       "      <td>1</td>\n",
       "      <td>0.000105</td>\n",
       "    </tr>\n",
       "    <tr>\n",
       "      <th>3</th>\n",
       "      <td>0.0</td>\n",
       "      <td>0.0</td>\n",
       "      <td>0.0</td>\n",
       "      <td>0.0</td>\n",
       "      <td>0.950</td>\n",
       "      <td>1</td>\n",
       "      <td>0.000094</td>\n",
       "    </tr>\n",
       "    <tr>\n",
       "      <th>4</th>\n",
       "      <td>0.0</td>\n",
       "      <td>0.0</td>\n",
       "      <td>0.0</td>\n",
       "      <td>0.0</td>\n",
       "      <td>0.925</td>\n",
       "      <td>1</td>\n",
       "      <td>0.000086</td>\n",
       "    </tr>\n",
       "    <tr>\n",
       "      <th>...</th>\n",
       "      <td>...</td>\n",
       "      <td>...</td>\n",
       "      <td>...</td>\n",
       "      <td>...</td>\n",
       "      <td>...</td>\n",
       "      <td>...</td>\n",
       "      <td>...</td>\n",
       "    </tr>\n",
       "    <tr>\n",
       "      <th>77755</th>\n",
       "      <td>1.0</td>\n",
       "      <td>1.0</td>\n",
       "      <td>1.0</td>\n",
       "      <td>1.0</td>\n",
       "      <td>0.075</td>\n",
       "      <td>0</td>\n",
       "      <td>-0.013321</td>\n",
       "    </tr>\n",
       "    <tr>\n",
       "      <th>77756</th>\n",
       "      <td>1.0</td>\n",
       "      <td>1.0</td>\n",
       "      <td>1.0</td>\n",
       "      <td>1.0</td>\n",
       "      <td>0.050</td>\n",
       "      <td>0</td>\n",
       "      <td>-0.014841</td>\n",
       "    </tr>\n",
       "    <tr>\n",
       "      <th>77757</th>\n",
       "      <td>1.0</td>\n",
       "      <td>1.0</td>\n",
       "      <td>1.0</td>\n",
       "      <td>1.0</td>\n",
       "      <td>0.050</td>\n",
       "      <td>0</td>\n",
       "      <td>-0.014831</td>\n",
       "    </tr>\n",
       "    <tr>\n",
       "      <th>77758</th>\n",
       "      <td>1.0</td>\n",
       "      <td>1.0</td>\n",
       "      <td>1.0</td>\n",
       "      <td>1.0</td>\n",
       "      <td>0.025</td>\n",
       "      <td>0</td>\n",
       "      <td>-0.014691</td>\n",
       "    </tr>\n",
       "    <tr>\n",
       "      <th>77759</th>\n",
       "      <td>1.0</td>\n",
       "      <td>1.0</td>\n",
       "      <td>1.0</td>\n",
       "      <td>1.0</td>\n",
       "      <td>0.025</td>\n",
       "      <td>0</td>\n",
       "      <td>-0.014623</td>\n",
       "    </tr>\n",
       "  </tbody>\n",
       "</table>\n",
       "<p>77760 rows × 7 columns</p>\n",
       "</div>"
      ],
      "text/plain": [
       "       Fill Factor  Pitch  Duty Cycle  Theta  Lambda  Mode  Transmission\n",
       "0              0.0    0.0         0.0    0.0   1.000     1      0.000097\n",
       "1              0.0    0.0         0.0    0.0   0.975     1      0.000100\n",
       "2              0.0    0.0         0.0    0.0   0.975     1      0.000105\n",
       "3              0.0    0.0         0.0    0.0   0.950     1      0.000094\n",
       "4              0.0    0.0         0.0    0.0   0.925     1      0.000086\n",
       "...            ...    ...         ...    ...     ...   ...           ...\n",
       "77755          1.0    1.0         1.0    1.0   0.075     0     -0.013321\n",
       "77756          1.0    1.0         1.0    1.0   0.050     0     -0.014841\n",
       "77757          1.0    1.0         1.0    1.0   0.050     0     -0.014831\n",
       "77758          1.0    1.0         1.0    1.0   0.025     0     -0.014691\n",
       "77759          1.0    1.0         1.0    1.0   0.025     0     -0.014623\n",
       "\n",
       "[77760 rows x 7 columns]"
      ]
     },
     "execution_count": 66,
     "metadata": {},
     "output_type": "execute_result"
    }
   ],
   "source": [
    "testing_set"
   ]
  },
  {
   "cell_type": "code",
   "execution_count": 94,
   "metadata": {},
   "outputs": [
    {
     "data": {
      "text/plain": [
       "tensor([0., 0., 0., 0., 1., 1.])"
      ]
     },
     "execution_count": 94,
     "metadata": {},
     "output_type": "execute_result"
    }
   ],
   "source": [
    "x = torch.tensor(testing_set.iloc[0][0:6], dtype=torch.float32)\n",
    "x"
   ]
  },
  {
   "cell_type": "code",
   "execution_count": 95,
   "metadata": {},
   "outputs": [
    {
     "data": {
      "text/plain": [
       "tensor([-4.9092], grad_fn=<AddBackward0>)"
      ]
     },
     "execution_count": 95,
     "metadata": {},
     "output_type": "execute_result"
    }
   ],
   "source": [
    "GratingCouplerNet(x)"
   ]
  },
  {
   "cell_type": "code",
   "execution_count": 82,
   "metadata": {},
   "outputs": [
    {
     "data": {
      "text/plain": [
       "-4.001304841688344"
      ]
     },
     "execution_count": 82,
     "metadata": {},
     "output_type": "execute_result"
    }
   ],
   "source": [
    "np.log10(testing_set.iloc[1][\"Transmission\"])"
   ]
  },
  {
   "cell_type": "code",
   "execution_count": 97,
   "metadata": {},
   "outputs": [
    {
     "data": {
      "text/plain": [
       "tensor(0.0002, dtype=torch.float64)"
      ]
     },
     "execution_count": 97,
     "metadata": {},
     "output_type": "execute_result"
    }
   ],
   "source": [
    "((-4.001) - torch.tensor(np.log10(testing_set.iloc[0][\"Transmission\"])))**2"
   ]
  },
  {
   "cell_type": "code",
   "execution_count": 85,
   "metadata": {},
   "outputs": [
    {
     "data": {
      "text/plain": [
       "-4.014124642691606"
      ]
     },
     "execution_count": 85,
     "metadata": {},
     "output_type": "execute_result"
    }
   ],
   "source": [
    "np.log10(testing_set.iloc[0][\"Transmission\"])"
   ]
  },
  {
   "cell_type": "code",
   "execution_count": null,
   "metadata": {},
   "outputs": [],
   "source": []
  }
 ],
 "metadata": {
  "kernelspec": {
   "display_name": "Python 3",
   "language": "python",
   "name": "python3"
  },
  "language_info": {
   "codemirror_mode": {
    "name": "ipython",
    "version": 3
   },
   "file_extension": ".py",
   "mimetype": "text/x-python",
   "name": "python",
   "nbconvert_exporter": "python",
   "pygments_lexer": "ipython3",
   "version": "3.8.5"
  }
 },
 "nbformat": 4,
 "nbformat_minor": 4
}
