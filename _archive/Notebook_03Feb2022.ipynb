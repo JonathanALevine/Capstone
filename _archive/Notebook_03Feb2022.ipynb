{
 "cells": [
  {
   "cell_type": "code",
   "execution_count": null,
   "metadata": {},
   "outputs": [],
   "source": [
    "import torch\n",
    "from torch import nn\n",
    "import numpy as np\n",
    "import pandas\n",
    "from torch.utils.data import Dataset, DataLoader\n",
    "import time\n",
    "\n",
    "pandas.set_option('precision', 20)"
   ]
  },
  {
   "cell_type": "code",
   "execution_count": 2,
   "metadata": {},
   "outputs": [],
   "source": [
    "class Network(nn.Module):\n",
    "        def __init__(self):\n",
    "                super().__init__()\n",
    "\n",
    "                # Layer sizes\n",
    "                self.input = nn.Linear(6, 100)\n",
    "                self.first_hidden = nn.Linear(100, 200)\n",
    "                self.second_hidden = nn.Linear(200, 200)\n",
    "                self.third_hidden = nn.Linear(200, 200)\n",
    "                self.fourth_hidden = nn.Linear(200, 200)\n",
    "                self.fifth_hidden = nn.Linear(200, 200)\n",
    "                self.sixth_hidden = nn.Linear(200, 100)\n",
    "                # self.seventh_hidden = nn.Linear(500, 250)\n",
    "                # self.eighth_hidden = nn.Linear(250, 100)\n",
    "                self.output = nn.Linear(100, 1)\n",
    "\n",
    "                # Activation functions\n",
    "                self.relu = nn.ReLU()\n",
    "                self.sigmoid = nn.Sigmoid()\n",
    "\n",
    "        def forward(self, x:[])->[]:\n",
    "                x = self.input(x)\n",
    "                x = self.relu(x)\n",
    "                x = self.first_hidden(x)\n",
    "                x = self.relu(x)\n",
    "                x = self.second_hidden(x)\n",
    "                x = self.relu(x)\n",
    "                x = self.third_hidden(x)\n",
    "                x = self.relu(x)\n",
    "                x = self.fourth_hidden(x)\n",
    "                x = self.relu(x)\n",
    "                x = self.fifth_hidden(x)\n",
    "                x = self.relu(x)\n",
    "                x = self.sixth_hidden(x)\n",
    "                x = self.relu(x)\n",
    "                # x = self.seventh_hidden(x)\n",
    "                # x = self.relu(x)\n",
    "                # x = self.eighth_hidden(x)\n",
    "                # x = self.relu(x)                \n",
    "                x = self.output(x)\n",
    "\n",
    "                return x"
   ]
  },
  {
   "cell_type": "code",
   "execution_count": 2,
   "metadata": {},
   "outputs": [
    {
     "data": {
      "text/html": [
       "<div>\n",
       "<style scoped>\n",
       "    .dataframe tbody tr th:only-of-type {\n",
       "        vertical-align: middle;\n",
       "    }\n",
       "\n",
       "    .dataframe tbody tr th {\n",
       "        vertical-align: top;\n",
       "    }\n",
       "\n",
       "    .dataframe thead th {\n",
       "        text-align: right;\n",
       "    }\n",
       "</style>\n",
       "<table border=\"1\" class=\"dataframe\">\n",
       "  <thead>\n",
       "    <tr style=\"text-align: right;\">\n",
       "      <th></th>\n",
       "      <th>Theta</th>\n",
       "      <th>Pitch</th>\n",
       "      <th>Duty Cycle</th>\n",
       "      <th>Fill Factor</th>\n",
       "      <th>Mode</th>\n",
       "      <th>Lambda</th>\n",
       "      <th>Transmission</th>\n",
       "    </tr>\n",
       "  </thead>\n",
       "  <tbody>\n",
       "    <tr>\n",
       "      <th>0</th>\n",
       "      <td>5.0</td>\n",
       "      <td>0.00000050</td>\n",
       "      <td>0.4000000000000000222</td>\n",
       "      <td>0.2000000000000000111</td>\n",
       "      <td>0</td>\n",
       "      <td>0.00000170</td>\n",
       "      <td>0.00009679999999999999</td>\n",
       "    </tr>\n",
       "    <tr>\n",
       "      <th>1</th>\n",
       "      <td>5.0</td>\n",
       "      <td>0.00000050</td>\n",
       "      <td>0.4000000000000000222</td>\n",
       "      <td>0.2000000000000000111</td>\n",
       "      <td>0</td>\n",
       "      <td>0.00000170</td>\n",
       "      <td>0.00009790000000000001</td>\n",
       "    </tr>\n",
       "    <tr>\n",
       "      <th>2</th>\n",
       "      <td>5.0</td>\n",
       "      <td>0.00000050</td>\n",
       "      <td>0.4000000000000000222</td>\n",
       "      <td>0.2000000000000000111</td>\n",
       "      <td>0</td>\n",
       "      <td>0.00000169</td>\n",
       "      <td>0.00009970000000000000</td>\n",
       "    </tr>\n",
       "    <tr>\n",
       "      <th>3</th>\n",
       "      <td>5.0</td>\n",
       "      <td>0.00000050</td>\n",
       "      <td>0.4000000000000000222</td>\n",
       "      <td>0.2000000000000000111</td>\n",
       "      <td>0</td>\n",
       "      <td>0.00000169</td>\n",
       "      <td>0.00010178900000000000</td>\n",
       "    </tr>\n",
       "    <tr>\n",
       "      <th>4</th>\n",
       "      <td>5.0</td>\n",
       "      <td>0.00000050</td>\n",
       "      <td>0.4000000000000000222</td>\n",
       "      <td>0.2000000000000000111</td>\n",
       "      <td>0</td>\n",
       "      <td>0.00000169</td>\n",
       "      <td>0.00010362100000000000</td>\n",
       "    </tr>\n",
       "    <tr>\n",
       "      <th>...</th>\n",
       "      <td>...</td>\n",
       "      <td>...</td>\n",
       "      <td>...</td>\n",
       "      <td>...</td>\n",
       "      <td>...</td>\n",
       "      <td>...</td>\n",
       "      <td>...</td>\n",
       "    </tr>\n",
       "    <tr>\n",
       "      <th>522395</th>\n",
       "      <td>15.0</td>\n",
       "      <td>0.00000075</td>\n",
       "      <td>0.6500000000000000222</td>\n",
       "      <td>0.2500000000000000000</td>\n",
       "      <td>1</td>\n",
       "      <td>0.00000131</td>\n",
       "      <td>-0.00056732500000000003</td>\n",
       "    </tr>\n",
       "    <tr>\n",
       "      <th>522396</th>\n",
       "      <td>15.0</td>\n",
       "      <td>0.00000075</td>\n",
       "      <td>0.6500000000000000222</td>\n",
       "      <td>0.2500000000000000000</td>\n",
       "      <td>1</td>\n",
       "      <td>0.00000130</td>\n",
       "      <td>-0.00057533699999999998</td>\n",
       "    </tr>\n",
       "    <tr>\n",
       "      <th>522397</th>\n",
       "      <td>15.0</td>\n",
       "      <td>0.00000075</td>\n",
       "      <td>0.6500000000000000222</td>\n",
       "      <td>0.2500000000000000000</td>\n",
       "      <td>1</td>\n",
       "      <td>0.00000130</td>\n",
       "      <td>-0.00058150900000000002</td>\n",
       "    </tr>\n",
       "    <tr>\n",
       "      <th>522398</th>\n",
       "      <td>15.0</td>\n",
       "      <td>0.00000075</td>\n",
       "      <td>0.6500000000000000222</td>\n",
       "      <td>0.2500000000000000000</td>\n",
       "      <td>1</td>\n",
       "      <td>0.00000130</td>\n",
       "      <td>-0.00058426099999999998</td>\n",
       "    </tr>\n",
       "    <tr>\n",
       "      <th>522399</th>\n",
       "      <td>15.0</td>\n",
       "      <td>0.00000075</td>\n",
       "      <td>0.6500000000000000222</td>\n",
       "      <td>0.2500000000000000000</td>\n",
       "      <td>1</td>\n",
       "      <td>0.00000130</td>\n",
       "      <td>-0.00058285900000000002</td>\n",
       "    </tr>\n",
       "  </tbody>\n",
       "</table>\n",
       "<p>522400 rows × 7 columns</p>\n",
       "</div>"
      ],
      "text/plain": [
       "        Theta       Pitch             Duty Cycle            Fill Factor  Mode  \\\n",
       "0         5.0  0.00000050  0.4000000000000000222  0.2000000000000000111     0   \n",
       "1         5.0  0.00000050  0.4000000000000000222  0.2000000000000000111     0   \n",
       "2         5.0  0.00000050  0.4000000000000000222  0.2000000000000000111     0   \n",
       "3         5.0  0.00000050  0.4000000000000000222  0.2000000000000000111     0   \n",
       "4         5.0  0.00000050  0.4000000000000000222  0.2000000000000000111     0   \n",
       "...       ...         ...                    ...                    ...   ...   \n",
       "522395   15.0  0.00000075  0.6500000000000000222  0.2500000000000000000     1   \n",
       "522396   15.0  0.00000075  0.6500000000000000222  0.2500000000000000000     1   \n",
       "522397   15.0  0.00000075  0.6500000000000000222  0.2500000000000000000     1   \n",
       "522398   15.0  0.00000075  0.6500000000000000222  0.2500000000000000000     1   \n",
       "522399   15.0  0.00000075  0.6500000000000000222  0.2500000000000000000     1   \n",
       "\n",
       "            Lambda            Transmission  \n",
       "0       0.00000170  0.00009679999999999999  \n",
       "1       0.00000170  0.00009790000000000001  \n",
       "2       0.00000169  0.00009970000000000000  \n",
       "3       0.00000169  0.00010178900000000000  \n",
       "4       0.00000169  0.00010362100000000000  \n",
       "...            ...                     ...  \n",
       "522395  0.00000131 -0.00056732500000000003  \n",
       "522396  0.00000130 -0.00057533699999999998  \n",
       "522397  0.00000130 -0.00058150900000000002  \n",
       "522398  0.00000130 -0.00058426099999999998  \n",
       "522399  0.00000130 -0.00058285900000000002  \n",
       "\n",
       "[522400 rows x 7 columns]"
      ]
     },
     "execution_count": 2,
     "metadata": {},
     "output_type": "execute_result"
    }
   ],
   "source": [
    "dataframe = pandas.read_csv('DATA_FILES/dataset_new.csv')\n",
    "dataframe"
   ]
  },
  {
   "cell_type": "code",
   "execution_count": 3,
   "metadata": {},
   "outputs": [],
   "source": [
    "def get_features(dataframe:pandas.DataFrame)->torch.Tensor:\n",
    "        return dataframe[[\"Theta\", \"Pitch\", \"Duty Cycle\", \"Fill Factor\", \"Lambda\", \"Mode\"]].values"
   ]
  },
  {
   "cell_type": "code",
   "execution_count": 202,
   "metadata": {},
   "outputs": [
    {
     "data": {
      "text/plain": [
       "array([[0.   , 0.   , 0.   , 0.   , 1.   , 1.   ],\n",
       "       [0.   , 0.   , 0.   , 0.   , 0.975, 1.   ],\n",
       "       [0.   , 0.   , 0.   , 0.   , 0.975, 1.   ],\n",
       "       ...,\n",
       "       [1.   , 1.   , 1.   , 1.   , 0.05 , 0.   ],\n",
       "       [1.   , 1.   , 1.   , 1.   , 0.025, 0.   ],\n",
       "       [1.   , 1.   , 1.   , 1.   , 0.025, 0.   ]])"
      ]
     },
     "execution_count": 202,
     "metadata": {},
     "output_type": "execute_result"
    }
   ],
   "source": [
    "get_features(testing_set)"
   ]
  },
  {
   "cell_type": "code",
   "execution_count": 204,
   "metadata": {},
   "outputs": [
    {
     "data": {
      "text/plain": [
       "tensor([[0.0000, 0.0000, 0.0000, 0.0000, 1.0000, 1.0000],\n",
       "        [0.0000, 0.0000, 0.0000, 0.0000, 0.9750, 1.0000],\n",
       "        [0.0000, 0.0000, 0.0000, 0.0000, 0.9750, 1.0000],\n",
       "        ...,\n",
       "        [1.0000, 1.0000, 1.0000, 1.0000, 0.0500, 0.0000],\n",
       "        [1.0000, 1.0000, 1.0000, 1.0000, 0.0250, 0.0000],\n",
       "        [1.0000, 1.0000, 1.0000, 1.0000, 0.0250, 0.0000]])"
      ]
     },
     "execution_count": 204,
     "metadata": {},
     "output_type": "execute_result"
    }
   ],
   "source": [
    "x = torch.tensor(get_features(testing_set), dtype=torch.float32)\n",
    "x"
   ]
  },
  {
   "cell_type": "code",
   "execution_count": 206,
   "metadata": {},
   "outputs": [
    {
     "data": {
      "text/plain": [
       "tensor([[-4.7083],\n",
       "        [-4.6639],\n",
       "        [-4.6639],\n",
       "        ...,\n",
       "        [-1.8997],\n",
       "        [-1.8408],\n",
       "        [-1.8408]], grad_fn=<AddmmBackward>)"
      ]
     },
     "execution_count": 206,
     "metadata": {},
     "output_type": "execute_result"
    }
   ],
   "source": [
    "GratingCouplerNet(x)"
   ]
  },
  {
   "cell_type": "code",
   "execution_count": 24,
   "metadata": {},
   "outputs": [
    {
     "data": {
      "text/html": [
       "<div>\n",
       "<style scoped>\n",
       "    .dataframe tbody tr th:only-of-type {\n",
       "        vertical-align: middle;\n",
       "    }\n",
       "\n",
       "    .dataframe tbody tr th {\n",
       "        vertical-align: top;\n",
       "    }\n",
       "\n",
       "    .dataframe thead th {\n",
       "        text-align: right;\n",
       "    }\n",
       "</style>\n",
       "<table border=\"1\" class=\"dataframe\">\n",
       "  <thead>\n",
       "    <tr style=\"text-align: right;\">\n",
       "      <th></th>\n",
       "      <th>Fill Factor</th>\n",
       "      <th>Pitch</th>\n",
       "      <th>Duty Cycle</th>\n",
       "      <th>Theta</th>\n",
       "      <th>Lambda</th>\n",
       "      <th>Mode</th>\n",
       "      <th>Transmission</th>\n",
       "    </tr>\n",
       "  </thead>\n",
       "  <tbody>\n",
       "    <tr>\n",
       "      <th>0</th>\n",
       "      <td>0.2</td>\n",
       "      <td>0.0000005</td>\n",
       "      <td>0.4</td>\n",
       "      <td>5</td>\n",
       "      <td>0.00000170</td>\n",
       "      <td>TM</td>\n",
       "      <td>0.000096800</td>\n",
       "    </tr>\n",
       "    <tr>\n",
       "      <th>1</th>\n",
       "      <td>0.2</td>\n",
       "      <td>0.0000005</td>\n",
       "      <td>0.4</td>\n",
       "      <td>5</td>\n",
       "      <td>0.00000170</td>\n",
       "      <td>TM</td>\n",
       "      <td>0.000097900</td>\n",
       "    </tr>\n",
       "    <tr>\n",
       "      <th>2</th>\n",
       "      <td>0.2</td>\n",
       "      <td>0.0000005</td>\n",
       "      <td>0.4</td>\n",
       "      <td>5</td>\n",
       "      <td>0.00000169</td>\n",
       "      <td>TM</td>\n",
       "      <td>0.000099700</td>\n",
       "    </tr>\n",
       "    <tr>\n",
       "      <th>3</th>\n",
       "      <td>0.2</td>\n",
       "      <td>0.0000005</td>\n",
       "      <td>0.4</td>\n",
       "      <td>5</td>\n",
       "      <td>0.00000169</td>\n",
       "      <td>TM</td>\n",
       "      <td>0.000101789</td>\n",
       "    </tr>\n",
       "    <tr>\n",
       "      <th>4</th>\n",
       "      <td>0.2</td>\n",
       "      <td>0.0000005</td>\n",
       "      <td>0.4</td>\n",
       "      <td>5</td>\n",
       "      <td>0.00000169</td>\n",
       "      <td>TM</td>\n",
       "      <td>0.000103621</td>\n",
       "    </tr>\n",
       "    <tr>\n",
       "      <th>...</th>\n",
       "      <td>...</td>\n",
       "      <td>...</td>\n",
       "      <td>...</td>\n",
       "      <td>...</td>\n",
       "      <td>...</td>\n",
       "      <td>...</td>\n",
       "      <td>...</td>\n",
       "    </tr>\n",
       "    <tr>\n",
       "      <th>518395</th>\n",
       "      <td>0.6</td>\n",
       "      <td>0.0000009</td>\n",
       "      <td>0.8</td>\n",
       "      <td>20</td>\n",
       "      <td>0.00000131</td>\n",
       "      <td>TE</td>\n",
       "      <td>-0.012646500</td>\n",
       "    </tr>\n",
       "    <tr>\n",
       "      <th>518396</th>\n",
       "      <td>0.6</td>\n",
       "      <td>0.0000009</td>\n",
       "      <td>0.8</td>\n",
       "      <td>20</td>\n",
       "      <td>0.00000130</td>\n",
       "      <td>TE</td>\n",
       "      <td>-0.012309600</td>\n",
       "    </tr>\n",
       "    <tr>\n",
       "      <th>518397</th>\n",
       "      <td>0.6</td>\n",
       "      <td>0.0000009</td>\n",
       "      <td>0.8</td>\n",
       "      <td>20</td>\n",
       "      <td>0.00000130</td>\n",
       "      <td>TE</td>\n",
       "      <td>-0.012144300</td>\n",
       "    </tr>\n",
       "    <tr>\n",
       "      <th>518398</th>\n",
       "      <td>0.6</td>\n",
       "      <td>0.0000009</td>\n",
       "      <td>0.8</td>\n",
       "      <td>20</td>\n",
       "      <td>0.00000130</td>\n",
       "      <td>TE</td>\n",
       "      <td>-0.011917400</td>\n",
       "    </tr>\n",
       "    <tr>\n",
       "      <th>518399</th>\n",
       "      <td>0.6</td>\n",
       "      <td>0.0000009</td>\n",
       "      <td>0.8</td>\n",
       "      <td>20</td>\n",
       "      <td>0.00000130</td>\n",
       "      <td>TE</td>\n",
       "      <td>-0.011437500</td>\n",
       "    </tr>\n",
       "  </tbody>\n",
       "</table>\n",
       "<p>518400 rows × 7 columns</p>\n",
       "</div>"
      ],
      "text/plain": [
       "        Fill Factor      Pitch  Duty Cycle  Theta      Lambda Mode  \\\n",
       "0               0.2  0.0000005         0.4      5  0.00000170   TM   \n",
       "1               0.2  0.0000005         0.4      5  0.00000170   TM   \n",
       "2               0.2  0.0000005         0.4      5  0.00000169   TM   \n",
       "3               0.2  0.0000005         0.4      5  0.00000169   TM   \n",
       "4               0.2  0.0000005         0.4      5  0.00000169   TM   \n",
       "...             ...        ...         ...    ...         ...  ...   \n",
       "518395          0.6  0.0000009         0.8     20  0.00000131   TE   \n",
       "518396          0.6  0.0000009         0.8     20  0.00000130   TE   \n",
       "518397          0.6  0.0000009         0.8     20  0.00000130   TE   \n",
       "518398          0.6  0.0000009         0.8     20  0.00000130   TE   \n",
       "518399          0.6  0.0000009         0.8     20  0.00000130   TE   \n",
       "\n",
       "        Transmission  \n",
       "0        0.000096800  \n",
       "1        0.000097900  \n",
       "2        0.000099700  \n",
       "3        0.000101789  \n",
       "4        0.000103621  \n",
       "...              ...  \n",
       "518395  -0.012646500  \n",
       "518396  -0.012309600  \n",
       "518397  -0.012144300  \n",
       "518398  -0.011917400  \n",
       "518399  -0.011437500  \n",
       "\n",
       "[518400 rows x 7 columns]"
      ]
     },
     "execution_count": 24,
     "metadata": {},
     "output_type": "execute_result"
    }
   ],
   "source": [
    "dataset = pandas.read_csv('DATA_FILES/dataset.csv')\n",
    "dataset"
   ]
  },
  {
   "cell_type": "code",
   "execution_count": 221,
   "metadata": {},
   "outputs": [
    {
     "data": {
      "text/plain": [
       "Fill Factor          0.2\n",
       "Pitch              5e-07\n",
       "Duty Cycle           0.4\n",
       "Theta                  5\n",
       "Lambda           1.3e-06\n",
       "Mode                  TE\n",
       "Transmission   -0.450689\n",
       "dtype: object"
      ]
     },
     "execution_count": 221,
     "metadata": {},
     "output_type": "execute_result"
    }
   ],
   "source": [
    "dataset.min()"
   ]
  },
  {
   "cell_type": "code",
   "execution_count": 223,
   "metadata": {},
   "outputs": [
    {
     "data": {
      "text/plain": [
       "Fill Factor          0.6\n",
       "Pitch              9e-07\n",
       "Duty Cycle           0.8\n",
       "Theta                 20\n",
       "Lambda           1.7e-06\n",
       "Mode                  TM\n",
       "Transmission    0.437869\n",
       "dtype: object"
      ]
     },
     "execution_count": 223,
     "metadata": {},
     "output_type": "execute_result"
    }
   ],
   "source": [
    "dataset.max()"
   ]
  },
  {
   "cell_type": "code",
   "execution_count": 5,
   "metadata": {},
   "outputs": [],
   "source": [
    "GratingCouplerNet = torch.load('GratingCouplerNetModel').eval()\n",
    "dataset = pandas.read_csv('DATA_FILES/dataset_new_normalized.csv')\n",
    "x = torch.tensor(get_features(dataset), dtype=torch.float32)\n",
    "predicted_transmissions = np.power(10, GratingCouplerNet(x).detach().numpy())"
   ]
  },
  {
   "cell_type": "code",
   "execution_count": 6,
   "metadata": {},
   "outputs": [
    {
     "data": {
      "text/html": [
       "<div>\n",
       "<style scoped>\n",
       "    .dataframe tbody tr th:only-of-type {\n",
       "        vertical-align: middle;\n",
       "    }\n",
       "\n",
       "    .dataframe tbody tr th {\n",
       "        vertical-align: top;\n",
       "    }\n",
       "\n",
       "    .dataframe thead th {\n",
       "        text-align: right;\n",
       "    }\n",
       "</style>\n",
       "<table border=\"1\" class=\"dataframe\">\n",
       "  <thead>\n",
       "    <tr style=\"text-align: right;\">\n",
       "      <th></th>\n",
       "      <th>Fill Factor</th>\n",
       "      <th>Pitch</th>\n",
       "      <th>Duty Cycle</th>\n",
       "      <th>Theta</th>\n",
       "      <th>Mode</th>\n",
       "      <th>Lambda</th>\n",
       "      <th>Transmission</th>\n",
       "      <th>Predicted Values</th>\n",
       "    </tr>\n",
       "  </thead>\n",
       "  <tbody>\n",
       "    <tr>\n",
       "      <th>0</th>\n",
       "      <td>0.0</td>\n",
       "      <td>0.0</td>\n",
       "      <td>0.0</td>\n",
       "      <td>0.0</td>\n",
       "      <td>0.0</td>\n",
       "      <td>1.00000</td>\n",
       "      <td>0.0000968272</td>\n",
       "      <td>0.000022789269</td>\n",
       "    </tr>\n",
       "    <tr>\n",
       "      <th>1</th>\n",
       "      <td>0.0</td>\n",
       "      <td>0.0</td>\n",
       "      <td>0.0</td>\n",
       "      <td>0.0</td>\n",
       "      <td>0.0</td>\n",
       "      <td>0.99350</td>\n",
       "      <td>0.0000978957</td>\n",
       "      <td>0.000023433198</td>\n",
       "    </tr>\n",
       "    <tr>\n",
       "      <th>2</th>\n",
       "      <td>0.0</td>\n",
       "      <td>0.0</td>\n",
       "      <td>0.0</td>\n",
       "      <td>0.0</td>\n",
       "      <td>0.0</td>\n",
       "      <td>0.98700</td>\n",
       "      <td>0.0000997107</td>\n",
       "      <td>0.000024095216</td>\n",
       "    </tr>\n",
       "    <tr>\n",
       "      <th>3</th>\n",
       "      <td>0.0</td>\n",
       "      <td>0.0</td>\n",
       "      <td>0.0</td>\n",
       "      <td>0.0</td>\n",
       "      <td>0.0</td>\n",
       "      <td>0.98050</td>\n",
       "      <td>0.0001017890</td>\n",
       "      <td>0.000024775965</td>\n",
       "    </tr>\n",
       "    <tr>\n",
       "      <th>4</th>\n",
       "      <td>0.0</td>\n",
       "      <td>0.0</td>\n",
       "      <td>0.0</td>\n",
       "      <td>0.0</td>\n",
       "      <td>0.0</td>\n",
       "      <td>0.97400</td>\n",
       "      <td>0.0001036210</td>\n",
       "      <td>0.000025475945</td>\n",
       "    </tr>\n",
       "    <tr>\n",
       "      <th>...</th>\n",
       "      <td>...</td>\n",
       "      <td>...</td>\n",
       "      <td>...</td>\n",
       "      <td>...</td>\n",
       "      <td>...</td>\n",
       "      <td>...</td>\n",
       "      <td>...</td>\n",
       "      <td>...</td>\n",
       "    </tr>\n",
       "    <tr>\n",
       "      <th>518395</th>\n",
       "      <td>1.0</td>\n",
       "      <td>1.0</td>\n",
       "      <td>1.0</td>\n",
       "      <td>1.0</td>\n",
       "      <td>1.0</td>\n",
       "      <td>0.01550</td>\n",
       "      <td>-0.0126465000</td>\n",
       "      <td>0.026449438184</td>\n",
       "    </tr>\n",
       "    <tr>\n",
       "      <th>518396</th>\n",
       "      <td>1.0</td>\n",
       "      <td>1.0</td>\n",
       "      <td>1.0</td>\n",
       "      <td>1.0</td>\n",
       "      <td>1.0</td>\n",
       "      <td>0.01150</td>\n",
       "      <td>-0.0123096000</td>\n",
       "      <td>0.026686409488</td>\n",
       "    </tr>\n",
       "    <tr>\n",
       "      <th>518397</th>\n",
       "      <td>1.0</td>\n",
       "      <td>1.0</td>\n",
       "      <td>1.0</td>\n",
       "      <td>1.0</td>\n",
       "      <td>1.0</td>\n",
       "      <td>0.00775</td>\n",
       "      <td>-0.0121443000</td>\n",
       "      <td>0.026907375082</td>\n",
       "    </tr>\n",
       "    <tr>\n",
       "      <th>518398</th>\n",
       "      <td>1.0</td>\n",
       "      <td>1.0</td>\n",
       "      <td>1.0</td>\n",
       "      <td>1.0</td>\n",
       "      <td>1.0</td>\n",
       "      <td>0.00375</td>\n",
       "      <td>-0.0119174000</td>\n",
       "      <td>0.027141928673</td>\n",
       "    </tr>\n",
       "    <tr>\n",
       "      <th>518399</th>\n",
       "      <td>1.0</td>\n",
       "      <td>1.0</td>\n",
       "      <td>1.0</td>\n",
       "      <td>1.0</td>\n",
       "      <td>1.0</td>\n",
       "      <td>0.00000</td>\n",
       "      <td>-0.0114375000</td>\n",
       "      <td>0.027363676578</td>\n",
       "    </tr>\n",
       "  </tbody>\n",
       "</table>\n",
       "<p>518400 rows × 8 columns</p>\n",
       "</div>"
      ],
      "text/plain": [
       "        Fill Factor  Pitch  Duty Cycle  Theta  Mode   Lambda  Transmission  \\\n",
       "0               0.0    0.0         0.0    0.0   0.0  1.00000  0.0000968272   \n",
       "1               0.0    0.0         0.0    0.0   0.0  0.99350  0.0000978957   \n",
       "2               0.0    0.0         0.0    0.0   0.0  0.98700  0.0000997107   \n",
       "3               0.0    0.0         0.0    0.0   0.0  0.98050  0.0001017890   \n",
       "4               0.0    0.0         0.0    0.0   0.0  0.97400  0.0001036210   \n",
       "...             ...    ...         ...    ...   ...      ...           ...   \n",
       "518395          1.0    1.0         1.0    1.0   1.0  0.01550 -0.0126465000   \n",
       "518396          1.0    1.0         1.0    1.0   1.0  0.01150 -0.0123096000   \n",
       "518397          1.0    1.0         1.0    1.0   1.0  0.00775 -0.0121443000   \n",
       "518398          1.0    1.0         1.0    1.0   1.0  0.00375 -0.0119174000   \n",
       "518399          1.0    1.0         1.0    1.0   1.0  0.00000 -0.0114375000   \n",
       "\n",
       "        Predicted Values  \n",
       "0         0.000022789269  \n",
       "1         0.000023433198  \n",
       "2         0.000024095216  \n",
       "3         0.000024775965  \n",
       "4         0.000025475945  \n",
       "...                  ...  \n",
       "518395    0.026449438184  \n",
       "518396    0.026686409488  \n",
       "518397    0.026907375082  \n",
       "518398    0.027141928673  \n",
       "518399    0.027363676578  \n",
       "\n",
       "[518400 rows x 8 columns]"
      ]
     },
     "execution_count": 6,
     "metadata": {},
     "output_type": "execute_result"
    }
   ],
   "source": [
    "dataset['Predicted Values'] = predicted_transmissions\n",
    "dataset"
   ]
  },
  {
   "cell_type": "code",
   "execution_count": 27,
   "metadata": {},
   "outputs": [],
   "source": [
    "dataset.to_csv('DATA_FILES/dataset_with_predicted_values.csv')"
   ]
  },
  {
   "cell_type": "code",
   "execution_count": 190,
   "metadata": {},
   "outputs": [
    {
     "data": {
      "text/plain": [
       "tensor([-4.5177], grad_fn=<AddBackward0>)"
      ]
     },
     "execution_count": 190,
     "metadata": {},
     "output_type": "execute_result"
    }
   ],
   "source": [
    "value = (GratingCouplerNet(x)*denominator) + (-4.506890e-01)\n",
    "value"
   ]
  },
  {
   "cell_type": "code",
   "execution_count": 56,
   "metadata": {},
   "outputs": [],
   "source": [
    "loss_function = torch.nn.MSELoss()"
   ]
  },
  {
   "cell_type": "code",
   "execution_count": 59,
   "metadata": {},
   "outputs": [
    {
     "name": "stderr",
     "output_type": "stream",
     "text": [
      "/home/jonathanlevine/anaconda3/lib/python3.8/site-packages/torch/nn/modules/loss.py:528: UserWarning: Using a target size (torch.Size([])) that is different to the input size (torch.Size([1])). This will likely lead to incorrect results due to broadcasting. Please ensure they have the same size.\n",
      "  return F.mse_loss(input, target, reduction=self.reduction)\n"
     ]
    },
    {
     "data": {
      "text/plain": [
       "tensor(0.0005, grad_fn=<MseLossBackward>)"
      ]
     },
     "execution_count": 59,
     "metadata": {},
     "output_type": "execute_result"
    }
   ],
   "source": [
    "loss_function(GratingCouplerNet(x), torch.tensor(testing_set.iloc[1][\"Transmission\"], dtype=torch.float32))"
   ]
  },
  {
   "cell_type": "code",
   "execution_count": 61,
   "metadata": {},
   "outputs": [
    {
     "data": {
      "text/plain": [
       "tensor([0.0005], grad_fn=<PowBackward0>)"
      ]
     },
     "execution_count": 61,
     "metadata": {},
     "output_type": "execute_result"
    }
   ],
   "source": [
    "(GratingCouplerNet(x) - torch.tensor(testing_set.iloc[1][\"Transmission\"]))**2"
   ]
  },
  {
   "cell_type": "code",
   "execution_count": 64,
   "metadata": {},
   "outputs": [
    {
     "data": {
      "text/plain": [
       "tensor([0.0427], grad_fn=<DivBackward0>)"
      ]
     },
     "execution_count": 64,
     "metadata": {},
     "output_type": "execute_result"
    }
   ],
   "source": [
    "abs((GratingCouplerNet(x) - torch.tensor(testing_set.iloc[1][\"Transmission\"])))/(torch.tensor(testing_set.iloc[1][\"Transmission\"]))"
   ]
  },
  {
   "cell_type": "code",
   "execution_count": 167,
   "metadata": {},
   "outputs": [],
   "source": [
    "training_set = pandas.read_csv('DATA_FILES/training_set_normalized_2.csv')\n",
    "testing_set = pandas.read_csv('DATA_FILES/testing_set_normalized_2.csv')"
   ]
  },
  {
   "cell_type": "code",
   "execution_count": 168,
   "metadata": {},
   "outputs": [
    {
     "data": {
      "text/html": [
       "<div>\n",
       "<style scoped>\n",
       "    .dataframe tbody tr th:only-of-type {\n",
       "        vertical-align: middle;\n",
       "    }\n",
       "\n",
       "    .dataframe tbody tr th {\n",
       "        vertical-align: top;\n",
       "    }\n",
       "\n",
       "    .dataframe thead th {\n",
       "        text-align: right;\n",
       "    }\n",
       "</style>\n",
       "<table border=\"1\" class=\"dataframe\">\n",
       "  <thead>\n",
       "    <tr style=\"text-align: right;\">\n",
       "      <th></th>\n",
       "      <th>Fill Factor</th>\n",
       "      <th>Pitch</th>\n",
       "      <th>Duty Cycle</th>\n",
       "      <th>Theta</th>\n",
       "      <th>Lambda</th>\n",
       "      <th>Mode</th>\n",
       "      <th>Transmission</th>\n",
       "    </tr>\n",
       "  </thead>\n",
       "  <tbody>\n",
       "    <tr>\n",
       "      <th>0</th>\n",
       "      <td>0.0</td>\n",
       "      <td>0.0</td>\n",
       "      <td>0.0</td>\n",
       "      <td>0.0</td>\n",
       "      <td>1.000</td>\n",
       "      <td>1</td>\n",
       "      <td>0.000097</td>\n",
       "    </tr>\n",
       "    <tr>\n",
       "      <th>1</th>\n",
       "      <td>0.0</td>\n",
       "      <td>0.0</td>\n",
       "      <td>0.0</td>\n",
       "      <td>0.0</td>\n",
       "      <td>0.975</td>\n",
       "      <td>1</td>\n",
       "      <td>0.000100</td>\n",
       "    </tr>\n",
       "    <tr>\n",
       "      <th>2</th>\n",
       "      <td>0.0</td>\n",
       "      <td>0.0</td>\n",
       "      <td>0.0</td>\n",
       "      <td>0.0</td>\n",
       "      <td>0.975</td>\n",
       "      <td>1</td>\n",
       "      <td>0.000105</td>\n",
       "    </tr>\n",
       "    <tr>\n",
       "      <th>3</th>\n",
       "      <td>0.0</td>\n",
       "      <td>0.0</td>\n",
       "      <td>0.0</td>\n",
       "      <td>0.0</td>\n",
       "      <td>0.950</td>\n",
       "      <td>1</td>\n",
       "      <td>0.000094</td>\n",
       "    </tr>\n",
       "    <tr>\n",
       "      <th>4</th>\n",
       "      <td>0.0</td>\n",
       "      <td>0.0</td>\n",
       "      <td>0.0</td>\n",
       "      <td>0.0</td>\n",
       "      <td>0.925</td>\n",
       "      <td>1</td>\n",
       "      <td>0.000086</td>\n",
       "    </tr>\n",
       "    <tr>\n",
       "      <th>...</th>\n",
       "      <td>...</td>\n",
       "      <td>...</td>\n",
       "      <td>...</td>\n",
       "      <td>...</td>\n",
       "      <td>...</td>\n",
       "      <td>...</td>\n",
       "      <td>...</td>\n",
       "    </tr>\n",
       "    <tr>\n",
       "      <th>77755</th>\n",
       "      <td>1.0</td>\n",
       "      <td>1.0</td>\n",
       "      <td>1.0</td>\n",
       "      <td>1.0</td>\n",
       "      <td>0.075</td>\n",
       "      <td>0</td>\n",
       "      <td>-0.013321</td>\n",
       "    </tr>\n",
       "    <tr>\n",
       "      <th>77756</th>\n",
       "      <td>1.0</td>\n",
       "      <td>1.0</td>\n",
       "      <td>1.0</td>\n",
       "      <td>1.0</td>\n",
       "      <td>0.050</td>\n",
       "      <td>0</td>\n",
       "      <td>-0.014841</td>\n",
       "    </tr>\n",
       "    <tr>\n",
       "      <th>77757</th>\n",
       "      <td>1.0</td>\n",
       "      <td>1.0</td>\n",
       "      <td>1.0</td>\n",
       "      <td>1.0</td>\n",
       "      <td>0.050</td>\n",
       "      <td>0</td>\n",
       "      <td>-0.014831</td>\n",
       "    </tr>\n",
       "    <tr>\n",
       "      <th>77758</th>\n",
       "      <td>1.0</td>\n",
       "      <td>1.0</td>\n",
       "      <td>1.0</td>\n",
       "      <td>1.0</td>\n",
       "      <td>0.025</td>\n",
       "      <td>0</td>\n",
       "      <td>-0.014691</td>\n",
       "    </tr>\n",
       "    <tr>\n",
       "      <th>77759</th>\n",
       "      <td>1.0</td>\n",
       "      <td>1.0</td>\n",
       "      <td>1.0</td>\n",
       "      <td>1.0</td>\n",
       "      <td>0.025</td>\n",
       "      <td>0</td>\n",
       "      <td>-0.014623</td>\n",
       "    </tr>\n",
       "  </tbody>\n",
       "</table>\n",
       "<p>77760 rows × 7 columns</p>\n",
       "</div>"
      ],
      "text/plain": [
       "       Fill Factor  Pitch  Duty Cycle  Theta  Lambda  Mode  Transmission\n",
       "0              0.0    0.0         0.0    0.0   1.000     1      0.000097\n",
       "1              0.0    0.0         0.0    0.0   0.975     1      0.000100\n",
       "2              0.0    0.0         0.0    0.0   0.975     1      0.000105\n",
       "3              0.0    0.0         0.0    0.0   0.950     1      0.000094\n",
       "4              0.0    0.0         0.0    0.0   0.925     1      0.000086\n",
       "...            ...    ...         ...    ...     ...   ...           ...\n",
       "77755          1.0    1.0         1.0    1.0   0.075     0     -0.013321\n",
       "77756          1.0    1.0         1.0    1.0   0.050     0     -0.014841\n",
       "77757          1.0    1.0         1.0    1.0   0.050     0     -0.014831\n",
       "77758          1.0    1.0         1.0    1.0   0.025     0     -0.014691\n",
       "77759          1.0    1.0         1.0    1.0   0.025     0     -0.014623\n",
       "\n",
       "[77760 rows x 7 columns]"
      ]
     },
     "execution_count": 168,
     "metadata": {},
     "output_type": "execute_result"
    }
   ],
   "source": [
    "testing_set"
   ]
  },
  {
   "cell_type": "code",
   "execution_count": 169,
   "metadata": {},
   "outputs": [
    {
     "data": {
      "text/plain": [
       "tensor([0., 0., 0., 0., 1., 1.])"
      ]
     },
     "execution_count": 169,
     "metadata": {},
     "output_type": "execute_result"
    }
   ],
   "source": [
    "x = torch.tensor(testing_set.iloc[0][0:6], dtype=torch.float32)\n",
    "x"
   ]
  },
  {
   "cell_type": "code",
   "execution_count": 192,
   "metadata": {},
   "outputs": [
    {
     "data": {
      "text/plain": [
       "tensor([-4.5771], grad_fn=<AddBackward0>)"
      ]
     },
     "execution_count": 192,
     "metadata": {},
     "output_type": "execute_result"
    }
   ],
   "source": [
    "GratingCouplerNet(x)"
   ]
  },
  {
   "cell_type": "code",
   "execution_count": 193,
   "metadata": {},
   "outputs": [
    {
     "data": {
      "text/plain": [
       "-4.014124642691606"
      ]
     },
     "execution_count": 193,
     "metadata": {},
     "output_type": "execute_result"
    }
   ],
   "source": [
    "np.log10(testing_set.iloc[0][\"Transmission\"])"
   ]
  },
  {
   "cell_type": "code",
   "execution_count": 97,
   "metadata": {},
   "outputs": [
    {
     "data": {
      "text/plain": [
       "tensor(0.0002, dtype=torch.float64)"
      ]
     },
     "execution_count": 97,
     "metadata": {},
     "output_type": "execute_result"
    }
   ],
   "source": [
    "((-4.001) - torch.tensor(np.log10(testing_set.iloc[0][\"Transmission\"])))**2"
   ]
  },
  {
   "cell_type": "code",
   "execution_count": 194,
   "metadata": {},
   "outputs": [
    {
     "data": {
      "text/plain": [
       "-4.014124642691606"
      ]
     },
     "execution_count": 194,
     "metadata": {},
     "output_type": "execute_result"
    }
   ],
   "source": [
    "np.log10(testing_set.iloc[0][\"Transmission\"])"
   ]
  },
  {
   "cell_type": "code",
   "execution_count": 195,
   "metadata": {},
   "outputs": [
    {
     "data": {
      "text/plain": [
       "array([2.6478625e-05], dtype=float32)"
      ]
     },
     "execution_count": 195,
     "metadata": {},
     "output_type": "execute_result"
    }
   ],
   "source": [
    "np.power(10, GratingCouplerNet(x).detach().numpy())"
   ]
  },
  {
   "cell_type": "code",
   "execution_count": 111,
   "metadata": {},
   "outputs": [
    {
     "data": {
      "text/plain": [
       "9.68e-05"
      ]
     },
     "execution_count": 111,
     "metadata": {},
     "output_type": "execute_result"
    }
   ],
   "source": [
    "testing_set.iloc[0][\"Transmission\"]"
   ]
  },
  {
   "cell_type": "code",
   "execution_count": 114,
   "metadata": {},
   "outputs": [
    {
     "data": {
      "text/plain": [
       "tensor([1.0000, 1.0000, 1.0000, 0.6000, 0.6250, 1.0000])"
      ]
     },
     "execution_count": 114,
     "metadata": {},
     "output_type": "execute_result"
    }
   ],
   "source": [
    "x = torch.tensor([1, 1, 1, 0.60, 0.625, 1], dtype=torch.float32)\n",
    "x"
   ]
  },
  {
   "cell_type": "code",
   "execution_count": 117,
   "metadata": {},
   "outputs": [
    {
     "data": {
      "text/plain": [
       "array([0.00133769], dtype=float32)"
      ]
     },
     "execution_count": 117,
     "metadata": {},
     "output_type": "execute_result"
    }
   ],
   "source": [
    "np.power(10, GratingCouplerNet(x).detach().numpy())"
   ]
  },
  {
   "cell_type": "code",
   "execution_count": 118,
   "metadata": {},
   "outputs": [
    {
     "data": {
      "text/plain": [
       "-0.9929595263157894"
      ]
     },
     "execution_count": 118,
     "metadata": {},
     "output_type": "execute_result"
    }
   ],
   "source": [
    "(0.00133769-0.19)/0.19"
   ]
  }
 ],
 "metadata": {
  "kernelspec": {
   "display_name": "Python 3",
   "language": "python",
   "name": "python3"
  },
  "language_info": {
   "codemirror_mode": {
    "name": "ipython",
    "version": 3
   },
   "file_extension": ".py",
   "mimetype": "text/x-python",
   "name": "python",
   "nbconvert_exporter": "python",
   "pygments_lexer": "ipython3",
   "version": "3.8.5"
  }
 },
 "nbformat": 4,
 "nbformat_minor": 4
}
