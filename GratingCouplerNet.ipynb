{
 "cells": [
  {
   "cell_type": "code",
   "execution_count": 2,
   "metadata": {},
   "outputs": [],
   "source": [
    "import torch\n",
    "from torch import nn\n",
    "import numpy as np\n",
    "import pandas"
   ]
  },
  {
   "cell_type": "code",
   "execution_count": 4,
   "metadata": {},
   "outputs": [],
   "source": [
    "features_path = \"features.csv\"\n",
    "labels_path = \"labels.csv\"\n",
    "dataset_path = \"data.csv\"\n",
    "new_dataset = \"output_frame.csv\""
   ]
  },
  {
   "cell_type": "code",
   "execution_count": 5,
   "metadata": {},
   "outputs": [],
   "source": [
    "class Network(nn.Module):\n",
    "    def __init__(self):\n",
    "        super().__init__()\n",
    "\n",
    "        # Inputs to hidden layer linear transformation\n",
    "        self.input = nn.Linear(6, 5)\n",
    "        self.first_hidden = nn.Linear(5, 5)\n",
    "        self.second_hidden = nn.Linear(5, 5)\n",
    "        self.third_hidden = nn.Linear(5, 5)\n",
    "        self.output = nn.Linear(5, 1)\n",
    "\n",
    "        self.relu = nn.ReLU()\n",
    "\n",
    "    def forward(self, x:[])->[]:\n",
    "        # 3 -> 2\n",
    "        x = self.input(x)\n",
    "        x = self.relu(x)\n",
    "        # 5 -> 5\n",
    "        x = self.first_hidden(x)\n",
    "        x = self.relu(x)\n",
    "        # 5 -> 5\n",
    "        x = self.second_hidden(x)\n",
    "        x = self.relu(x)\n",
    "        # 5 -> 5\n",
    "        x = self.third_hidden(x)\n",
    "        x = self.relu(x)\n",
    "        # 2 -> 2\n",
    "        x = self.output(x)\n",
    "\n",
    "        return x"
   ]
  },
  {
   "cell_type": "code",
   "execution_count": 6,
   "metadata": {},
   "outputs": [],
   "source": [
    "def get_dataset(path_to_dataset:str)->pandas.DataFrame:\n",
    "    return pandas.read_csv(path_to_dataset, header=None)\n",
    "\n",
    "\n",
    "def get_dataset_no_zeroes(dataframe:pandas.DataFrame)->pandas.DataFrame:\n",
    "    return dataframe[dataframe[0] != 0]\n",
    "\n",
    "\n",
    "def get_features(dataframe:pandas.DataFrame)->torch.Tensor:\n",
    "    return dataframe[[\"Fill Factor\", \"Pitch\", \"Duty Cycle\", \"Theta\", \"Lambda\", \"Mode\"]]\n",
    "\n",
    "\n",
    "def get_labels(dataframe:pandas.DataFrame)->torch.Tensor:\n",
    "    return dataframe[['Transmission']]\n",
    "\n",
    "\n",
    "def get_features_no_zeroes(dataframe:pandas.DataFrame)->torch.Tensor:\n",
    "    return torch.tensor(dataframe[dataframe[0] != 0].iloc[:,[0,1,2]].values)\n",
    "\n",
    "\n",
    "def get_labels_no_zeroes(dataframe:pandas.DataFrame)->torch.Tensor:\n",
    "    return torch.tensor(dataframe[dataframe[0] != 0].iloc[:,[3, 4]].values)\n",
    "    \n",
    "\n",
    "def transform_features(DataFrame:pandas.DataFrame)->torch.tensor:\n",
    "    tensor = torch.tensor(DataFrame.values)\n",
    "    tensor[:,0:5] = np.log10(tensor[:,0:5])\n",
    "    return tensor\n",
    "\n",
    "\n",
    "def transform_labels(DataFrame:pandas.DataFrame)->torch.tensor:\n",
    "    tensor = torch.tensor(DataFrame.values)\n",
    "    tensor[:,0] = np.log10(np.abs(tensor[:,0]))\n",
    "    return tensor\n",
    "\n",
    "\n",
    "def norm(tensor:torch.tensor)->torch.tensor:\n",
    "    return torch.nn.functional.normalize(tensor).float()\n",
    "    \n",
    "    \n",
    "def magnitude(vector:np.array)->float:\n",
    "    return np.linalg.norm(vector)\n",
    "    "
   ]
  },
  {
   "cell_type": "code",
   "execution_count": 7,
   "metadata": {},
   "outputs": [
    {
     "data": {
      "text/html": [
       "<div>\n",
       "<style scoped>\n",
       "    .dataframe tbody tr th:only-of-type {\n",
       "        vertical-align: middle;\n",
       "    }\n",
       "\n",
       "    .dataframe tbody tr th {\n",
       "        vertical-align: top;\n",
       "    }\n",
       "\n",
       "    .dataframe thead th {\n",
       "        text-align: right;\n",
       "    }\n",
       "</style>\n",
       "<table border=\"1\" class=\"dataframe\">\n",
       "  <thead>\n",
       "    <tr style=\"text-align: right;\">\n",
       "      <th></th>\n",
       "      <th>Fill Factor</th>\n",
       "      <th>Pitch</th>\n",
       "      <th>Duty Cycle</th>\n",
       "      <th>Theta</th>\n",
       "      <th>Lambda</th>\n",
       "      <th>Transmission</th>\n",
       "      <th>Mode</th>\n",
       "    </tr>\n",
       "  </thead>\n",
       "  <tbody>\n",
       "    <tr>\n",
       "      <th>0</th>\n",
       "      <td>0.2</td>\n",
       "      <td>5.000000e-07</td>\n",
       "      <td>0.4</td>\n",
       "      <td>5</td>\n",
       "      <td>0.000002</td>\n",
       "      <td>0.000097</td>\n",
       "      <td>1</td>\n",
       "    </tr>\n",
       "    <tr>\n",
       "      <th>1</th>\n",
       "      <td>0.2</td>\n",
       "      <td>5.000000e-07</td>\n",
       "      <td>0.4</td>\n",
       "      <td>5</td>\n",
       "      <td>0.000002</td>\n",
       "      <td>0.000098</td>\n",
       "      <td>1</td>\n",
       "    </tr>\n",
       "    <tr>\n",
       "      <th>2</th>\n",
       "      <td>0.2</td>\n",
       "      <td>5.000000e-07</td>\n",
       "      <td>0.4</td>\n",
       "      <td>5</td>\n",
       "      <td>0.000002</td>\n",
       "      <td>0.000100</td>\n",
       "      <td>1</td>\n",
       "    </tr>\n",
       "    <tr>\n",
       "      <th>3</th>\n",
       "      <td>0.2</td>\n",
       "      <td>5.000000e-07</td>\n",
       "      <td>0.4</td>\n",
       "      <td>5</td>\n",
       "      <td>0.000002</td>\n",
       "      <td>0.000102</td>\n",
       "      <td>1</td>\n",
       "    </tr>\n",
       "    <tr>\n",
       "      <th>4</th>\n",
       "      <td>0.2</td>\n",
       "      <td>5.000000e-07</td>\n",
       "      <td>0.4</td>\n",
       "      <td>5</td>\n",
       "      <td>0.000002</td>\n",
       "      <td>0.000104</td>\n",
       "      <td>1</td>\n",
       "    </tr>\n",
       "    <tr>\n",
       "      <th>...</th>\n",
       "      <td>...</td>\n",
       "      <td>...</td>\n",
       "      <td>...</td>\n",
       "      <td>...</td>\n",
       "      <td>...</td>\n",
       "      <td>...</td>\n",
       "      <td>...</td>\n",
       "    </tr>\n",
       "    <tr>\n",
       "      <th>518195</th>\n",
       "      <td>0.6</td>\n",
       "      <td>9.000000e-07</td>\n",
       "      <td>0.8</td>\n",
       "      <td>20</td>\n",
       "      <td>0.000001</td>\n",
       "      <td>0.000372</td>\n",
       "      <td>1</td>\n",
       "    </tr>\n",
       "    <tr>\n",
       "      <th>518196</th>\n",
       "      <td>0.6</td>\n",
       "      <td>9.000000e-07</td>\n",
       "      <td>0.8</td>\n",
       "      <td>20</td>\n",
       "      <td>0.000001</td>\n",
       "      <td>0.000339</td>\n",
       "      <td>1</td>\n",
       "    </tr>\n",
       "    <tr>\n",
       "      <th>518197</th>\n",
       "      <td>0.6</td>\n",
       "      <td>9.000000e-07</td>\n",
       "      <td>0.8</td>\n",
       "      <td>20</td>\n",
       "      <td>0.000001</td>\n",
       "      <td>0.000337</td>\n",
       "      <td>1</td>\n",
       "    </tr>\n",
       "    <tr>\n",
       "      <th>518198</th>\n",
       "      <td>0.6</td>\n",
       "      <td>9.000000e-07</td>\n",
       "      <td>0.8</td>\n",
       "      <td>20</td>\n",
       "      <td>0.000001</td>\n",
       "      <td>0.000354</td>\n",
       "      <td>1</td>\n",
       "    </tr>\n",
       "    <tr>\n",
       "      <th>518199</th>\n",
       "      <td>0.6</td>\n",
       "      <td>9.000000e-07</td>\n",
       "      <td>0.8</td>\n",
       "      <td>20</td>\n",
       "      <td>0.000001</td>\n",
       "      <td>0.000378</td>\n",
       "      <td>1</td>\n",
       "    </tr>\n",
       "  </tbody>\n",
       "</table>\n",
       "<p>259200 rows × 7 columns</p>\n",
       "</div>"
      ],
      "text/plain": [
       "        Fill Factor         Pitch  Duty Cycle  Theta    Lambda  Transmission  \\\n",
       "0               0.2  5.000000e-07         0.4      5  0.000002      0.000097   \n",
       "1               0.2  5.000000e-07         0.4      5  0.000002      0.000098   \n",
       "2               0.2  5.000000e-07         0.4      5  0.000002      0.000100   \n",
       "3               0.2  5.000000e-07         0.4      5  0.000002      0.000102   \n",
       "4               0.2  5.000000e-07         0.4      5  0.000002      0.000104   \n",
       "...             ...           ...         ...    ...       ...           ...   \n",
       "518195          0.6  9.000000e-07         0.8     20  0.000001      0.000372   \n",
       "518196          0.6  9.000000e-07         0.8     20  0.000001      0.000339   \n",
       "518197          0.6  9.000000e-07         0.8     20  0.000001      0.000337   \n",
       "518198          0.6  9.000000e-07         0.8     20  0.000001      0.000354   \n",
       "518199          0.6  9.000000e-07         0.8     20  0.000001      0.000378   \n",
       "\n",
       "        Mode  \n",
       "0          1  \n",
       "1          1  \n",
       "2          1  \n",
       "3          1  \n",
       "4          1  \n",
       "...      ...  \n",
       "518195     1  \n",
       "518196     1  \n",
       "518197     1  \n",
       "518198     1  \n",
       "518199     1  \n",
       "\n",
       "[259200 rows x 7 columns]"
      ]
     },
     "execution_count": 7,
     "metadata": {},
     "output_type": "execute_result"
    }
   ],
   "source": [
    "dataset = pandas.read_csv(\"DATA_FILES/dataset.csv\")\n",
    "dataset[\"Mode\"] = dataset[\"Mode\"].astype('category').cat.codes\n",
    "dataset = dataset[dataset[\"Mode\"]!=0]\n",
    "dataset"
   ]
  },
  {
   "cell_type": "code",
   "execution_count": 8,
   "metadata": {},
   "outputs": [
    {
     "data": {
      "text/html": [
       "<div>\n",
       "<style scoped>\n",
       "    .dataframe tbody tr th:only-of-type {\n",
       "        vertical-align: middle;\n",
       "    }\n",
       "\n",
       "    .dataframe tbody tr th {\n",
       "        vertical-align: top;\n",
       "    }\n",
       "\n",
       "    .dataframe thead th {\n",
       "        text-align: right;\n",
       "    }\n",
       "</style>\n",
       "<table border=\"1\" class=\"dataframe\">\n",
       "  <thead>\n",
       "    <tr style=\"text-align: right;\">\n",
       "      <th></th>\n",
       "      <th>Fill Factor</th>\n",
       "      <th>Pitch</th>\n",
       "      <th>Duty Cycle</th>\n",
       "      <th>Theta</th>\n",
       "      <th>Lambda</th>\n",
       "      <th>Transmission</th>\n",
       "      <th>Mode</th>\n",
       "    </tr>\n",
       "  </thead>\n",
       "  <tbody>\n",
       "    <tr>\n",
       "      <th>405260</th>\n",
       "      <td>0.60</td>\n",
       "      <td>9.000000e-07</td>\n",
       "      <td>0.80</td>\n",
       "      <td>17</td>\n",
       "      <td>0.000002</td>\n",
       "      <td>0.000379</td>\n",
       "      <td>1</td>\n",
       "    </tr>\n",
       "    <tr>\n",
       "      <th>135316</th>\n",
       "      <td>0.60</td>\n",
       "      <td>9.000000e-07</td>\n",
       "      <td>0.80</td>\n",
       "      <td>8</td>\n",
       "      <td>0.000001</td>\n",
       "      <td>0.002719</td>\n",
       "      <td>1</td>\n",
       "    </tr>\n",
       "    <tr>\n",
       "      <th>69318</th>\n",
       "      <td>0.60</td>\n",
       "      <td>9.000000e-07</td>\n",
       "      <td>0.80</td>\n",
       "      <td>5</td>\n",
       "      <td>0.000001</td>\n",
       "      <td>0.010948</td>\n",
       "      <td>1</td>\n",
       "    </tr>\n",
       "    <tr>\n",
       "      <th>176550</th>\n",
       "      <td>0.44</td>\n",
       "      <td>5.000000e-07</td>\n",
       "      <td>0.48</td>\n",
       "      <td>11</td>\n",
       "      <td>0.000001</td>\n",
       "      <td>0.000284</td>\n",
       "      <td>1</td>\n",
       "    </tr>\n",
       "    <tr>\n",
       "      <th>46909</th>\n",
       "      <td>0.60</td>\n",
       "      <td>9.000000e-07</td>\n",
       "      <td>0.80</td>\n",
       "      <td>5</td>\n",
       "      <td>0.000001</td>\n",
       "      <td>0.001745</td>\n",
       "      <td>1</td>\n",
       "    </tr>\n",
       "    <tr>\n",
       "      <th>...</th>\n",
       "      <td>...</td>\n",
       "      <td>...</td>\n",
       "      <td>...</td>\n",
       "      <td>...</td>\n",
       "      <td>...</td>\n",
       "      <td>...</td>\n",
       "      <td>...</td>\n",
       "    </tr>\n",
       "    <tr>\n",
       "      <th>83689</th>\n",
       "      <td>0.60</td>\n",
       "      <td>9.000000e-07</td>\n",
       "      <td>0.80</td>\n",
       "      <td>5</td>\n",
       "      <td>0.000001</td>\n",
       "      <td>0.000772</td>\n",
       "      <td>1</td>\n",
       "    </tr>\n",
       "    <tr>\n",
       "      <th>514921</th>\n",
       "      <td>0.60</td>\n",
       "      <td>9.000000e-07</td>\n",
       "      <td>0.80</td>\n",
       "      <td>20</td>\n",
       "      <td>0.000001</td>\n",
       "      <td>0.002377</td>\n",
       "      <td>1</td>\n",
       "    </tr>\n",
       "    <tr>\n",
       "      <th>318541</th>\n",
       "      <td>0.60</td>\n",
       "      <td>9.000000e-07</td>\n",
       "      <td>0.80</td>\n",
       "      <td>14</td>\n",
       "      <td>0.000001</td>\n",
       "      <td>0.005327</td>\n",
       "      <td>1</td>\n",
       "    </tr>\n",
       "    <tr>\n",
       "      <th>204087</th>\n",
       "      <td>0.20</td>\n",
       "      <td>9.000000e-07</td>\n",
       "      <td>0.48</td>\n",
       "      <td>11</td>\n",
       "      <td>0.000002</td>\n",
       "      <td>0.011999</td>\n",
       "      <td>1</td>\n",
       "    </tr>\n",
       "    <tr>\n",
       "      <th>330049</th>\n",
       "      <td>0.60</td>\n",
       "      <td>9.000000e-07</td>\n",
       "      <td>0.80</td>\n",
       "      <td>14</td>\n",
       "      <td>0.000002</td>\n",
       "      <td>0.000234</td>\n",
       "      <td>1</td>\n",
       "    </tr>\n",
       "  </tbody>\n",
       "</table>\n",
       "<p>220320 rows × 7 columns</p>\n",
       "</div>"
      ],
      "text/plain": [
       "        Fill Factor         Pitch  Duty Cycle  Theta    Lambda  Transmission  \\\n",
       "405260         0.60  9.000000e-07        0.80     17  0.000002      0.000379   \n",
       "135316         0.60  9.000000e-07        0.80      8  0.000001      0.002719   \n",
       "69318          0.60  9.000000e-07        0.80      5  0.000001      0.010948   \n",
       "176550         0.44  5.000000e-07        0.48     11  0.000001      0.000284   \n",
       "46909          0.60  9.000000e-07        0.80      5  0.000001      0.001745   \n",
       "...             ...           ...         ...    ...       ...           ...   \n",
       "83689          0.60  9.000000e-07        0.80      5  0.000001      0.000772   \n",
       "514921         0.60  9.000000e-07        0.80     20  0.000001      0.002377   \n",
       "318541         0.60  9.000000e-07        0.80     14  0.000001      0.005327   \n",
       "204087         0.20  9.000000e-07        0.48     11  0.000002      0.011999   \n",
       "330049         0.60  9.000000e-07        0.80     14  0.000002      0.000234   \n",
       "\n",
       "        Mode  \n",
       "405260     1  \n",
       "135316     1  \n",
       "69318      1  \n",
       "176550     1  \n",
       "46909      1  \n",
       "...      ...  \n",
       "83689      1  \n",
       "514921     1  \n",
       "318541     1  \n",
       "204087     1  \n",
       "330049     1  \n",
       "\n",
       "[220320 rows x 7 columns]"
      ]
     },
     "execution_count": 8,
     "metadata": {},
     "output_type": "execute_result"
    }
   ],
   "source": [
    "# GET THE TRAINING SET\n",
    "training_set = dataset.sample(frac = 0.85)\n",
    "training_set"
   ]
  },
  {
   "cell_type": "code",
   "execution_count": 11,
   "metadata": {},
   "outputs": [
    {
     "data": {
      "text/html": [
       "<div>\n",
       "<style scoped>\n",
       "    .dataframe tbody tr th:only-of-type {\n",
       "        vertical-align: middle;\n",
       "    }\n",
       "\n",
       "    .dataframe tbody tr th {\n",
       "        vertical-align: top;\n",
       "    }\n",
       "\n",
       "    .dataframe thead th {\n",
       "        text-align: right;\n",
       "    }\n",
       "</style>\n",
       "<table border=\"1\" class=\"dataframe\">\n",
       "  <thead>\n",
       "    <tr style=\"text-align: right;\">\n",
       "      <th></th>\n",
       "      <th>Fill Factor</th>\n",
       "      <th>Pitch</th>\n",
       "      <th>Duty Cycle</th>\n",
       "      <th>Theta</th>\n",
       "      <th>Lambda</th>\n",
       "      <th>Transmission</th>\n",
       "      <th>Mode</th>\n",
       "    </tr>\n",
       "  </thead>\n",
       "  <tbody>\n",
       "    <tr>\n",
       "      <th>11</th>\n",
       "      <td>0.2</td>\n",
       "      <td>5.000000e-07</td>\n",
       "      <td>0.4</td>\n",
       "      <td>5</td>\n",
       "      <td>0.000002</td>\n",
       "      <td>0.000076</td>\n",
       "      <td>1</td>\n",
       "    </tr>\n",
       "    <tr>\n",
       "      <th>18</th>\n",
       "      <td>0.2</td>\n",
       "      <td>5.000000e-07</td>\n",
       "      <td>0.4</td>\n",
       "      <td>5</td>\n",
       "      <td>0.000002</td>\n",
       "      <td>0.000007</td>\n",
       "      <td>1</td>\n",
       "    </tr>\n",
       "    <tr>\n",
       "      <th>29</th>\n",
       "      <td>0.2</td>\n",
       "      <td>5.000000e-07</td>\n",
       "      <td>0.4</td>\n",
       "      <td>5</td>\n",
       "      <td>0.000002</td>\n",
       "      <td>0.000251</td>\n",
       "      <td>1</td>\n",
       "    </tr>\n",
       "    <tr>\n",
       "      <th>34</th>\n",
       "      <td>0.2</td>\n",
       "      <td>5.000000e-07</td>\n",
       "      <td>0.4</td>\n",
       "      <td>5</td>\n",
       "      <td>0.000002</td>\n",
       "      <td>0.000330</td>\n",
       "      <td>1</td>\n",
       "    </tr>\n",
       "    <tr>\n",
       "      <th>41</th>\n",
       "      <td>0.2</td>\n",
       "      <td>5.000000e-07</td>\n",
       "      <td>0.4</td>\n",
       "      <td>5</td>\n",
       "      <td>0.000002</td>\n",
       "      <td>0.000223</td>\n",
       "      <td>1</td>\n",
       "    </tr>\n",
       "    <tr>\n",
       "      <th>...</th>\n",
       "      <td>...</td>\n",
       "      <td>...</td>\n",
       "      <td>...</td>\n",
       "      <td>...</td>\n",
       "      <td>...</td>\n",
       "      <td>...</td>\n",
       "      <td>...</td>\n",
       "    </tr>\n",
       "    <tr>\n",
       "      <th>518133</th>\n",
       "      <td>0.6</td>\n",
       "      <td>9.000000e-07</td>\n",
       "      <td>0.8</td>\n",
       "      <td>20</td>\n",
       "      <td>0.000001</td>\n",
       "      <td>0.004074</td>\n",
       "      <td>1</td>\n",
       "    </tr>\n",
       "    <tr>\n",
       "      <th>518152</th>\n",
       "      <td>0.6</td>\n",
       "      <td>9.000000e-07</td>\n",
       "      <td>0.8</td>\n",
       "      <td>20</td>\n",
       "      <td>0.000001</td>\n",
       "      <td>0.002577</td>\n",
       "      <td>1</td>\n",
       "    </tr>\n",
       "    <tr>\n",
       "      <th>518161</th>\n",
       "      <td>0.6</td>\n",
       "      <td>9.000000e-07</td>\n",
       "      <td>0.8</td>\n",
       "      <td>20</td>\n",
       "      <td>0.000001</td>\n",
       "      <td>0.006174</td>\n",
       "      <td>1</td>\n",
       "    </tr>\n",
       "    <tr>\n",
       "      <th>518166</th>\n",
       "      <td>0.6</td>\n",
       "      <td>9.000000e-07</td>\n",
       "      <td>0.8</td>\n",
       "      <td>20</td>\n",
       "      <td>0.000001</td>\n",
       "      <td>0.009374</td>\n",
       "      <td>1</td>\n",
       "    </tr>\n",
       "    <tr>\n",
       "      <th>518178</th>\n",
       "      <td>0.6</td>\n",
       "      <td>9.000000e-07</td>\n",
       "      <td>0.8</td>\n",
       "      <td>20</td>\n",
       "      <td>0.000001</td>\n",
       "      <td>0.001515</td>\n",
       "      <td>1</td>\n",
       "    </tr>\n",
       "  </tbody>\n",
       "</table>\n",
       "<p>38880 rows × 7 columns</p>\n",
       "</div>"
      ],
      "text/plain": [
       "        Fill Factor         Pitch  Duty Cycle  Theta    Lambda  Transmission  \\\n",
       "11              0.2  5.000000e-07         0.4      5  0.000002      0.000076   \n",
       "18              0.2  5.000000e-07         0.4      5  0.000002      0.000007   \n",
       "29              0.2  5.000000e-07         0.4      5  0.000002      0.000251   \n",
       "34              0.2  5.000000e-07         0.4      5  0.000002      0.000330   \n",
       "41              0.2  5.000000e-07         0.4      5  0.000002      0.000223   \n",
       "...             ...           ...         ...    ...       ...           ...   \n",
       "518133          0.6  9.000000e-07         0.8     20  0.000001      0.004074   \n",
       "518152          0.6  9.000000e-07         0.8     20  0.000001      0.002577   \n",
       "518161          0.6  9.000000e-07         0.8     20  0.000001      0.006174   \n",
       "518166          0.6  9.000000e-07         0.8     20  0.000001      0.009374   \n",
       "518178          0.6  9.000000e-07         0.8     20  0.000001      0.001515   \n",
       "\n",
       "        Mode  \n",
       "11         1  \n",
       "18         1  \n",
       "29         1  \n",
       "34         1  \n",
       "41         1  \n",
       "...      ...  \n",
       "518133     1  \n",
       "518152     1  \n",
       "518161     1  \n",
       "518166     1  \n",
       "518178     1  \n",
       "\n",
       "[38880 rows x 7 columns]"
      ]
     },
     "execution_count": 11,
     "metadata": {},
     "output_type": "execute_result"
    }
   ],
   "source": [
    "testing_set = dataset.drop(training_set.index)\n",
    "testing_set"
   ]
  },
  {
   "cell_type": "code",
   "execution_count": 21,
   "metadata": {},
   "outputs": [
    {
     "data": {
      "text/plain": [
       "Network(\n",
       "  (input): Linear(in_features=6, out_features=100, bias=True)\n",
       "  (first_hidden): Linear(in_features=100, out_features=50, bias=True)\n",
       "  (second_hidden): Linear(in_features=50, out_features=50, bias=True)\n",
       "  (third_hidden): Linear(in_features=50, out_features=50, bias=True)\n",
       "  (output): Linear(in_features=50, out_features=1, bias=True)\n",
       "  (relu): ReLU()\n",
       ")"
      ]
     },
     "execution_count": 21,
     "metadata": {},
     "output_type": "execute_result"
    }
   ],
   "source": [
    "GratingCouplerNet = torch.load(\"GratingCouplerNetModel\")\n",
    "GratingCouplerNet.eval()"
   ]
  },
  {
   "cell_type": "code",
   "execution_count": 26,
   "metadata": {},
   "outputs": [
    {
     "data": {
      "text/plain": [
       "tensor([[-2.7278],\n",
       "        [-2.7277],\n",
       "        [-2.7276],\n",
       "        ...,\n",
       "        [-2.7207],\n",
       "        [-2.7206],\n",
       "        [-2.7204]], grad_fn=<AddmmBackward>)"
      ]
     },
     "execution_count": 26,
     "metadata": {},
     "output_type": "execute_result"
    }
   ],
   "source": [
    "prediction = GratingCouplerNet(norm(transform_features(get_features(testing_set))))\n",
    "prediction"
   ]
  },
  {
   "cell_type": "code",
   "execution_count": 27,
   "metadata": {},
   "outputs": [
    {
     "data": {
      "text/plain": [
       "tensor([[-3.4218],\n",
       "        [-2.5656],\n",
       "        [-1.9606],\n",
       "        ...,\n",
       "        [-2.2735],\n",
       "        [-1.9209],\n",
       "        [-3.6308]], dtype=torch.float64)"
      ]
     },
     "execution_count": 27,
     "metadata": {},
     "output_type": "execute_result"
    }
   ],
   "source": [
    "transform_labels(get_labels(training_set))"
   ]
  },
  {
   "cell_type": "code",
   "execution_count": 44,
   "metadata": {},
   "outputs": [],
   "source": [
    "torch.save(GratingCouplerNet.state_dict(), 'GratingCouplerNetModel')"
   ]
  },
  {
   "cell_type": "code",
   "execution_count": 237,
   "metadata": {},
   "outputs": [
    {
     "name": "stdout",
     "output_type": "stream",
     "text": [
      "input.weight torch.Size([3, 6])\n",
      "input.bias torch.Size([3])\n",
      "first_hidden.weight torch.Size([3, 3])\n",
      "first_hidden.bias torch.Size([3])\n",
      "second_hidden.weight torch.Size([3, 3])\n",
      "second_hidden.bias torch.Size([3])\n",
      "third_hidden.weight torch.Size([3, 3])\n",
      "third_hidden.bias torch.Size([3])\n",
      "output.weight torch.Size([1, 3])\n",
      "output.bias torch.Size([1])\n"
     ]
    }
   ],
   "source": [
    "for weight, name in gratingCouplerNet.named_parameters():\n",
    "    print(weight, name.shape)"
   ]
  },
  {
   "cell_type": "code",
   "execution_count": 36,
   "metadata": {},
   "outputs": [
    {
     "data": {
      "text/plain": [
       "tensor([-4.7371], grad_fn=<SelectBackward>)"
      ]
     },
     "execution_count": 36,
     "metadata": {},
     "output_type": "execute_result"
    }
   ],
   "source": [
    "prediction[0]"
   ]
  },
  {
   "cell_type": "code",
   "execution_count": 37,
   "metadata": {},
   "outputs": [
    {
     "data": {
      "text/plain": [
       "tensor([-3.9923], dtype=torch.float64)"
      ]
     },
     "execution_count": 37,
     "metadata": {},
     "output_type": "execute_result"
    }
   ],
   "source": [
    "y_test[0]"
   ]
  },
  {
   "cell_type": "code",
   "execution_count": 38,
   "metadata": {},
   "outputs": [
    {
     "data": {
      "text/plain": [
       "tensor([-4.6379], grad_fn=<SelectBackward>)"
      ]
     },
     "execution_count": 38,
     "metadata": {},
     "output_type": "execute_result"
    }
   ],
   "source": [
    "prediction[1]"
   ]
  },
  {
   "cell_type": "code",
   "execution_count": 29,
   "metadata": {},
   "outputs": [
    {
     "data": {
      "text/plain": [
       "array([0.00022], dtype=float32)"
      ]
     },
     "execution_count": 29,
     "metadata": {},
     "output_type": "execute_result"
    }
   ],
   "source": [
    "np.power(10, prediction[0].detach().numpy())"
   ]
  },
  {
   "cell_type": "code",
   "execution_count": 30,
   "metadata": {},
   "outputs": [
    {
     "data": {
      "text/plain": [
       "array([0.00010179])"
      ]
     },
     "execution_count": 30,
     "metadata": {},
     "output_type": "execute_result"
    }
   ],
   "source": [
    "np.power(10, y_test[0].detach().numpy())"
   ]
  },
  {
   "cell_type": "code",
   "execution_count": 648,
   "metadata": {},
   "outputs": [
    {
     "data": {
      "text/plain": [
       "-0.01945726046799541"
      ]
     },
     "execution_count": 648,
     "metadata": {},
     "output_type": "execute_result"
    }
   ],
   "source": [
    "-1*np.power(10, y_test[0][1].detach().numpy())"
   ]
  },
  {
   "cell_type": "code",
   "execution_count": 651,
   "metadata": {},
   "outputs": [
    {
     "data": {
      "text/plain": [
       "-0.005269782584722879"
      ]
     },
     "execution_count": 651,
     "metadata": {},
     "output_type": "execute_result"
    }
   ],
   "source": [
    "-1*np.power(10, gratingCouplerNet(X_test_normed[0]).detach().numpy()[1])"
   ]
  },
  {
   "cell_type": "code",
   "execution_count": 654,
   "metadata": {},
   "outputs": [
    {
     "data": {
      "text/plain": [
       "-0.005151365999223099"
      ]
     },
     "execution_count": 654,
     "metadata": {},
     "output_type": "execute_result"
    }
   ],
   "source": [
    "-1*np.power(10, y[0][1].detach().numpy())"
   ]
  },
  {
   "cell_type": "code",
   "execution_count": 655,
   "metadata": {},
   "outputs": [
    {
     "data": {
      "text/plain": [
       "-0.008357428100215211"
      ]
     },
     "execution_count": 655,
     "metadata": {},
     "output_type": "execute_result"
    }
   ],
   "source": [
    "-1*np.power(10, gratingCouplerNet(X_normed[0]).detach().numpy()[1])"
   ]
  },
  {
   "cell_type": "code",
   "execution_count": 728,
   "metadata": {},
   "outputs": [],
   "source": [
    "X_new = transform_features(Dataset.get_features(new_dataset))\n",
    "X_new_normed = norm(X_new)\n",
    "y_new = transform_labels(Dataset.get_labels(new_dataset))"
   ]
  },
  {
   "cell_type": "code",
   "execution_count": 731,
   "metadata": {},
   "outputs": [],
   "source": [
    "new_prediction = gratingCouplerNet(X_new_normed)"
   ]
  },
  {
   "cell_type": "code",
   "execution_count": 732,
   "metadata": {},
   "outputs": [
    {
     "data": {
      "text/plain": [
       "tensor([-5.7959, -0.1303])"
      ]
     },
     "execution_count": 732,
     "metadata": {},
     "output_type": "execute_result"
    }
   ],
   "source": [
    "y_new[0]"
   ]
  },
  {
   "cell_type": "code",
   "execution_count": 730,
   "metadata": {},
   "outputs": [
    {
     "data": {
      "text/plain": [
       "tensor([-8.8410, -8.5823], grad_fn=<SelectBackward>)"
      ]
     },
     "execution_count": 730,
     "metadata": {},
     "output_type": "execute_result"
    }
   ],
   "source": [
    "new_prediction[0]"
   ]
  },
  {
   "cell_type": "code",
   "execution_count": 734,
   "metadata": {},
   "outputs": [
    {
     "data": {
      "text/plain": [
       "tensor(1.9358, grad_fn=<MseLossBackward>)"
      ]
     },
     "execution_count": 734,
     "metadata": {},
     "output_type": "execute_result"
    }
   ],
   "source": [
    "loss_function(new_prediction, y_new.float())"
   ]
  },
  {
   "cell_type": "code",
   "execution_count": null,
   "metadata": {},
   "outputs": [],
   "source": []
  }
 ],
 "metadata": {
  "interpreter": {
   "hash": "c5d7e701477744fca7f01e4ac4ce7a00f852190f16ed8dbc24620b3de422c735"
  },
  "kernelspec": {
   "display_name": "Python 3",
   "language": "python",
   "name": "python3"
  },
  "language_info": {
   "codemirror_mode": {
    "name": "ipython",
    "version": 3
   },
   "file_extension": ".py",
   "mimetype": "text/x-python",
   "name": "python",
   "nbconvert_exporter": "python",
   "pygments_lexer": "ipython3",
   "version": "3.8.5"
  }
 },
 "nbformat": 4,
 "nbformat_minor": 4
}
